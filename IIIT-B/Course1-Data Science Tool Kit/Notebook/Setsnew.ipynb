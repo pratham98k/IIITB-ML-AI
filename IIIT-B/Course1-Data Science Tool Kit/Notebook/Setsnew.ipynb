{
 "cells": [
  {
   "cell_type": "code",
   "execution_count": 3,
   "id": "73dcdcbc-117a-4ef3-b30b-3290c2df1b4a",
   "metadata": {},
   "outputs": [],
   "source": [
    "lst1 = [1,2,3,4,5,6]\n",
    "lst2 = [2,3,4,5,6,7,8,9]"
   ]
  },
  {
   "cell_type": "code",
   "execution_count": 5,
   "id": "610315dc-fae4-4e4f-bb03-a04da30f4035",
   "metadata": {},
   "outputs": [],
   "source": [
    "set1=set(lst1)"
   ]
  },
  {
   "cell_type": "code",
   "execution_count": 6,
   "id": "b2639443-4fa0-4737-8d3f-88f847e2f360",
   "metadata": {},
   "outputs": [],
   "source": [
    "set2=set(lst2)"
   ]
  },
  {
   "cell_type": "code",
   "execution_count": 7,
   "id": "d7aad6a3-2bc9-41c9-a5a8-e7e6fa2e07d5",
   "metadata": {},
   "outputs": [
    {
     "data": {
      "text/plain": [
       "set"
      ]
     },
     "execution_count": 7,
     "metadata": {},
     "output_type": "execute_result"
    }
   ],
   "source": [
    "type(set1)"
   ]
  },
  {
   "cell_type": "code",
   "execution_count": 8,
   "id": "7ee5cbe6-af65-40b0-abdb-131d9b3e3376",
   "metadata": {},
   "outputs": [
    {
     "name": "stdout",
     "output_type": "stream",
     "text": [
      "{2, 3, 4, 5, 6}\n"
     ]
    }
   ],
   "source": [
    "print(set1.intersection(set2))"
   ]
  },
  {
   "cell_type": "code",
   "execution_count": 9,
   "id": "ad051f2b-738c-4ae7-8c79-2a735b19c9e9",
   "metadata": {},
   "outputs": [
    {
     "name": "stdout",
     "output_type": "stream",
     "text": [
      "{1, 2, 3, 4, 5, 6, 7, 8, 9}\n"
     ]
    }
   ],
   "source": [
    "print(set1.union(set2))"
   ]
  },
  {
   "cell_type": "code",
   "execution_count": 11,
   "id": "e4cc2f01-f564-4dc7-b4df-3a89adb08370",
   "metadata": {},
   "outputs": [
    {
     "name": "stdout",
     "output_type": "stream",
     "text": [
      "{1, 7, 8, 9}\n"
     ]
    }
   ],
   "source": [
    "print(set1.symmetric_difference(set2))"
   ]
  },
  {
   "cell_type": "code",
   "execution_count": 13,
   "id": "26162cbf-39cf-4cce-9a67-27a93463edab",
   "metadata": {},
   "outputs": [
    {
     "name": "stdout",
     "output_type": "stream",
     "text": [
      "{1}\n"
     ]
    }
   ],
   "source": [
    "print(set1.difference(set2))"
   ]
  },
  {
   "cell_type": "code",
   "execution_count": 14,
   "id": "a1361feb-229a-4b6c-99f4-f29ff9cfd945",
   "metadata": {},
   "outputs": [],
   "source": [
    "nums = set([1,1,2,3,3,3,4])"
   ]
  },
  {
   "cell_type": "code",
   "execution_count": 15,
   "id": "9f19166c-17e0-44a1-aabc-4dc7cd97ac79",
   "metadata": {},
   "outputs": [
    {
     "data": {
      "text/plain": [
       "4"
      ]
     },
     "execution_count": 15,
     "metadata": {},
     "output_type": "execute_result"
    }
   ],
   "source": [
    "len(nums)"
   ]
  },
  {
   "cell_type": "code",
   "execution_count": 17,
   "id": "af13f75c-44d6-4196-b2dc-971ae35dead0",
   "metadata": {},
   "outputs": [
    {
     "name": "stdout",
     "output_type": "stream",
     "text": [
      "{1, 2, 3, 4}\n"
     ]
    }
   ],
   "source": [
    "print(nums)"
   ]
  },
  {
   "cell_type": "code",
   "execution_count": null,
   "id": "c8d6a193-d19c-4796-90e3-c24d36ad6e67",
   "metadata": {},
   "outputs": [],
   "source": []
  }
 ],
 "metadata": {
  "kernelspec": {
   "display_name": "Python 3 (ipykernel)",
   "language": "python",
   "name": "python3"
  },
  "language_info": {
   "codemirror_mode": {
    "name": "ipython",
    "version": 3
   },
   "file_extension": ".py",
   "mimetype": "text/x-python",
   "name": "python",
   "nbconvert_exporter": "python",
   "pygments_lexer": "ipython3",
   "version": "3.11.7"
  }
 },
 "nbformat": 4,
 "nbformat_minor": 5
}
