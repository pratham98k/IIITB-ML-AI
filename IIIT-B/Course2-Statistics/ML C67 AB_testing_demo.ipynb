{
 "cells": [
  {
   "cell_type": "code",
   "execution_count": 1,
   "id": "321b199b",
   "metadata": {},
   "outputs": [],
   "source": [
    "import pandas as pd "
   ]
  },
  {
   "cell_type": "code",
   "execution_count": 2,
   "id": "f446eb9d",
   "metadata": {},
   "outputs": [],
   "source": [
    "import scipy.stats as ss "
   ]
  },
  {
   "cell_type": "code",
   "execution_count": 3,
   "id": "1494e117",
   "metadata": {},
   "outputs": [],
   "source": [
    "twosampup_df= pd.read_csv(\"unpaired-exhaust.csv\")"
   ]
  },
  {
   "cell_type": "code",
   "execution_count": 4,
   "id": "da8392a1",
   "metadata": {},
   "outputs": [
    {
     "data": {
      "text/html": [
       "<div>\n",
       "<style scoped>\n",
       "    .dataframe tbody tr th:only-of-type {\n",
       "        vertical-align: middle;\n",
       "    }\n",
       "\n",
       "    .dataframe tbody tr th {\n",
       "        vertical-align: top;\n",
       "    }\n",
       "\n",
       "    .dataframe thead th {\n",
       "        text-align: right;\n",
       "    }\n",
       "</style>\n",
       "<table border=\"1\" class=\"dataframe\">\n",
       "  <thead>\n",
       "    <tr style=\"text-align: right;\">\n",
       "      <th></th>\n",
       "      <th>Bike ID</th>\n",
       "      <th>Fuel Economy</th>\n",
       "      <th>Batch</th>\n",
       "    </tr>\n",
       "  </thead>\n",
       "  <tbody>\n",
       "    <tr>\n",
       "      <th>0</th>\n",
       "      <td>A1</td>\n",
       "      <td>43</td>\n",
       "      <td>BS4</td>\n",
       "    </tr>\n",
       "    <tr>\n",
       "      <th>1</th>\n",
       "      <td>A2</td>\n",
       "      <td>52</td>\n",
       "      <td>BS4</td>\n",
       "    </tr>\n",
       "    <tr>\n",
       "      <th>2</th>\n",
       "      <td>A3</td>\n",
       "      <td>58</td>\n",
       "      <td>BS4</td>\n",
       "    </tr>\n",
       "    <tr>\n",
       "      <th>3</th>\n",
       "      <td>A4</td>\n",
       "      <td>44</td>\n",
       "      <td>BS4</td>\n",
       "    </tr>\n",
       "    <tr>\n",
       "      <th>4</th>\n",
       "      <td>A5</td>\n",
       "      <td>48</td>\n",
       "      <td>BS4</td>\n",
       "    </tr>\n",
       "  </tbody>\n",
       "</table>\n",
       "</div>"
      ],
      "text/plain": [
       "  Bike ID  Fuel Economy Batch\n",
       "0      A1            43   BS4\n",
       "1      A2            52   BS4\n",
       "2      A3            58   BS4\n",
       "3      A4            44   BS4\n",
       "4      A5            48   BS4"
      ]
     },
     "execution_count": 4,
     "metadata": {},
     "output_type": "execute_result"
    }
   ],
   "source": [
    "twosampup_df.head()"
   ]
  },
  {
   "cell_type": "code",
   "execution_count": 5,
   "id": "5e6dd588",
   "metadata": {},
   "outputs": [
    {
     "data": {
      "text/html": [
       "<div>\n",
       "<style scoped>\n",
       "    .dataframe tbody tr th:only-of-type {\n",
       "        vertical-align: middle;\n",
       "    }\n",
       "\n",
       "    .dataframe tbody tr th {\n",
       "        vertical-align: top;\n",
       "    }\n",
       "\n",
       "    .dataframe thead th {\n",
       "        text-align: right;\n",
       "    }\n",
       "</style>\n",
       "<table border=\"1\" class=\"dataframe\">\n",
       "  <thead>\n",
       "    <tr style=\"text-align: right;\">\n",
       "      <th></th>\n",
       "      <th>Bike ID</th>\n",
       "      <th>Fuel Economy</th>\n",
       "      <th>Batch</th>\n",
       "    </tr>\n",
       "  </thead>\n",
       "  <tbody>\n",
       "    <tr>\n",
       "      <th>43</th>\n",
       "      <td>B20</td>\n",
       "      <td>45</td>\n",
       "      <td>BS6</td>\n",
       "    </tr>\n",
       "    <tr>\n",
       "      <th>44</th>\n",
       "      <td>B21</td>\n",
       "      <td>54</td>\n",
       "      <td>BS6</td>\n",
       "    </tr>\n",
       "    <tr>\n",
       "      <th>45</th>\n",
       "      <td>B22</td>\n",
       "      <td>48</td>\n",
       "      <td>BS6</td>\n",
       "    </tr>\n",
       "    <tr>\n",
       "      <th>46</th>\n",
       "      <td>B23</td>\n",
       "      <td>62</td>\n",
       "      <td>BS6</td>\n",
       "    </tr>\n",
       "    <tr>\n",
       "      <th>47</th>\n",
       "      <td>B24</td>\n",
       "      <td>40</td>\n",
       "      <td>BS6</td>\n",
       "    </tr>\n",
       "  </tbody>\n",
       "</table>\n",
       "</div>"
      ],
      "text/plain": [
       "   Bike ID  Fuel Economy Batch\n",
       "43     B20            45   BS6\n",
       "44     B21            54   BS6\n",
       "45     B22            48   BS6\n",
       "46     B23            62   BS6\n",
       "47     B24            40   BS6"
      ]
     },
     "execution_count": 5,
     "metadata": {},
     "output_type": "execute_result"
    }
   ],
   "source": [
    "twosampup_df.tail()"
   ]
  },
  {
   "cell_type": "code",
   "execution_count": 6,
   "id": "bb2b04d5",
   "metadata": {},
   "outputs": [
    {
     "data": {
      "text/plain": [
       "(48, 3)"
      ]
     },
     "execution_count": 6,
     "metadata": {},
     "output_type": "execute_result"
    }
   ],
   "source": [
    "twosampup_df.shape"
   ]
  },
  {
   "cell_type": "code",
   "execution_count": 8,
   "id": "400af88c",
   "metadata": {},
   "outputs": [
    {
     "data": {
      "text/plain": [
       "52.916666666666664"
      ]
     },
     "execution_count": 8,
     "metadata": {},
     "output_type": "execute_result"
    }
   ],
   "source": [
    "bs4 = twosampup_df[twosampup_df[\"Batch\"]==\"BS4\"][\"Fuel Economy\"]\n",
    "bs4.mean()"
   ]
  },
  {
   "cell_type": "code",
   "execution_count": 9,
   "id": "f6a76063",
   "metadata": {},
   "outputs": [
    {
     "data": {
      "text/plain": [
       "51.375"
      ]
     },
     "execution_count": 9,
     "metadata": {},
     "output_type": "execute_result"
    }
   ],
   "source": [
    "bs6 = twosampup_df[twosampup_df[\"Batch\"]==\"BS6\"][\"Fuel Economy\"]\n",
    "bs6.mean()"
   ]
  },
  {
   "cell_type": "code",
   "execution_count": 12,
   "id": "43aa2ea3",
   "metadata": {},
   "outputs": [
    {
     "data": {
      "text/plain": [
       "TtestResult(statistic=0.7087914510636509, pvalue=0.482030754068267, df=46.0)"
      ]
     },
     "execution_count": 12,
     "metadata": {},
     "output_type": "execute_result"
    }
   ],
   "source": [
    "ss.ttest_ind(bs4,bs6, alternative=\"two-sided\")"
   ]
  },
  {
   "cell_type": "code",
   "execution_count": 13,
   "id": "fd17e955",
   "metadata": {},
   "outputs": [
    {
     "data": {
      "text/plain": [
       "'\\nA custom exhaust manufacturing company want to compare the fuel economy after upgrading motorcycles from stock to custom exhaust. The test were run for 2 different batches i.e. BS4 and BS6 as custom exhaust is compatible with both BS4 and BS6 motorcycles. Both the batches have all different models of bikes as changes has to be compared across all models variants with old BS4 and newer BS6. To track if the custom exhaust affects the fuel economy of the BS4 and BS6 motorcycles differently, you decided to conduct a few hypothesis tests. - Dataset to use: `unpaired-exhaust.csv`\\n'"
      ]
     },
     "execution_count": 13,
     "metadata": {},
     "output_type": "execute_result"
    }
   ],
   "source": [
    "\"\"\"\n",
    "A custom exhaust manufacturing company want to compare the fuel economy after upgrading motorcycles from stock to custom exhaust. The test were run for 2 different batches i.e. BS4 and BS6 as custom exhaust is compatible with both BS4 and BS6 motorcycles. Both the batches have all different models of bikes as changes has to be compared across all models variants with old BS4 and newer BS6. To track if the custom exhaust affects the fuel economy of the BS4 and BS6 motorcycles differently, you decided to conduct a few hypothesis tests. - Dataset to use: `unpaired-exhaust.csv`\n",
    "\"\"\""
   ]
  },
  {
   "cell_type": "code",
   "execution_count": 14,
   "id": "bcbfc555",
   "metadata": {},
   "outputs": [],
   "source": [
    "twosampp_df=pd.read_csv(\"paired_jump.csv\")"
   ]
  },
  {
   "cell_type": "code",
   "execution_count": 15,
   "id": "df53fbc2",
   "metadata": {},
   "outputs": [
    {
     "data": {
      "text/html": [
       "<div>\n",
       "<style scoped>\n",
       "    .dataframe tbody tr th:only-of-type {\n",
       "        vertical-align: middle;\n",
       "    }\n",
       "\n",
       "    .dataframe tbody tr th {\n",
       "        vertical-align: top;\n",
       "    }\n",
       "\n",
       "    .dataframe thead th {\n",
       "        text-align: right;\n",
       "    }\n",
       "</style>\n",
       "<table border=\"1\" class=\"dataframe\">\n",
       "  <thead>\n",
       "    <tr style=\"text-align: right;\">\n",
       "      <th></th>\n",
       "      <th>Player</th>\n",
       "      <th>Jump before training</th>\n",
       "      <th>Jump after training</th>\n",
       "    </tr>\n",
       "  </thead>\n",
       "  <tbody>\n",
       "    <tr>\n",
       "      <th>0</th>\n",
       "      <td>Player 1</td>\n",
       "      <td>22</td>\n",
       "      <td>24</td>\n",
       "    </tr>\n",
       "    <tr>\n",
       "      <th>1</th>\n",
       "      <td>Player 2</td>\n",
       "      <td>20</td>\n",
       "      <td>22</td>\n",
       "    </tr>\n",
       "    <tr>\n",
       "      <th>2</th>\n",
       "      <td>Player 3</td>\n",
       "      <td>19</td>\n",
       "      <td>19</td>\n",
       "    </tr>\n",
       "    <tr>\n",
       "      <th>3</th>\n",
       "      <td>Player 4</td>\n",
       "      <td>24</td>\n",
       "      <td>22</td>\n",
       "    </tr>\n",
       "    <tr>\n",
       "      <th>4</th>\n",
       "      <td>Player 5</td>\n",
       "      <td>25</td>\n",
       "      <td>28</td>\n",
       "    </tr>\n",
       "  </tbody>\n",
       "</table>\n",
       "</div>"
      ],
      "text/plain": [
       "     Player  Jump before training  Jump after training\n",
       "0  Player 1                    22                   24\n",
       "1  Player 2                    20                   22\n",
       "2  Player 3                    19                   19\n",
       "3  Player 4                    24                   22\n",
       "4  Player 5                    25                   28"
      ]
     },
     "execution_count": 15,
     "metadata": {},
     "output_type": "execute_result"
    }
   ],
   "source": [
    "twosampp_df.head()"
   ]
  },
  {
   "cell_type": "code",
   "execution_count": 16,
   "id": "d11b7b91",
   "metadata": {},
   "outputs": [
    {
     "data": {
      "text/plain": [
       "(25, 3)"
      ]
     },
     "execution_count": 16,
     "metadata": {},
     "output_type": "execute_result"
    }
   ],
   "source": [
    "twosampp_df.shape"
   ]
  },
  {
   "cell_type": "code",
   "execution_count": 23,
   "id": "310299b4",
   "metadata": {},
   "outputs": [
    {
     "data": {
      "text/plain": [
       "22.72"
      ]
     },
     "execution_count": 23,
     "metadata": {},
     "output_type": "execute_result"
    }
   ],
   "source": [
    "bt=twosampp_df[\"Jump before training\"]\n",
    "bt.mean()"
   ]
  },
  {
   "cell_type": "code",
   "execution_count": 24,
   "id": "452bb9e8",
   "metadata": {},
   "outputs": [
    {
     "data": {
      "text/plain": [
       "23.8"
      ]
     },
     "execution_count": 24,
     "metadata": {},
     "output_type": "execute_result"
    }
   ],
   "source": [
    "at=twosampp_df[\"Jump after training\"]\n",
    "at.mean()"
   ]
  },
  {
   "cell_type": "code",
   "execution_count": 25,
   "id": "b7e0cbec",
   "metadata": {},
   "outputs": [
    {
     "data": {
      "text/plain": [
       "TtestResult(statistic=-3.2602767700386956, pvalue=0.0033180017066275855, df=24)"
      ]
     },
     "execution_count": 25,
     "metadata": {},
     "output_type": "execute_result"
    }
   ],
   "source": [
    "ss.ttest_rel(bt,at,alternative=\"two-sided\")"
   ]
  },
  {
   "cell_type": "code",
   "execution_count": null,
   "id": "0eca9a6e",
   "metadata": {},
   "outputs": [],
   "source": []
  }
 ],
 "metadata": {
  "kernelspec": {
   "display_name": "Python 3 (ipykernel)",
   "language": "python",
   "name": "python3"
  },
  "language_info": {
   "codemirror_mode": {
    "name": "ipython",
    "version": 3
   },
   "file_extension": ".py",
   "mimetype": "text/x-python",
   "name": "python",
   "nbconvert_exporter": "python",
   "pygments_lexer": "ipython3",
   "version": "3.11.7"
  }
 },
 "nbformat": 4,
 "nbformat_minor": 5
}
