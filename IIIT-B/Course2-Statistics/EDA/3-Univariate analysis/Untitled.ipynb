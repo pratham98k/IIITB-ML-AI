{
 "cells": [
  {
   "cell_type": "code",
   "execution_count": 1,
   "id": "5ae842af-edb6-4919-8cec-15d0eba2e60f",
   "metadata": {},
   "outputs": [],
   "source": [
    "import numpy as np\n",
    "import pandas as pd\n",
    "import seaborn as sns\n",
    "import matplotlib.pyplot as plt\n",
    "pd.set_option(\"display.max_columns\", 300)\n",
    "pd.set_option(\"display.max_rows\", 500)"
   ]
  },
  {
   "cell_type": "code",
   "execution_count": 2,
   "id": "d9b9e8cd-dd58-44fc-8972-c66a5753d6ce",
   "metadata": {},
   "outputs": [],
   "source": [
    "df = pd.read_csv(\"popularity.csv\")"
   ]
  },
  {
   "cell_type": "code",
   "execution_count": 4,
   "id": "e1326c8f-cc93-4281-ac9b-3ad68e4dda57",
   "metadata": {},
   "outputs": [
    {
     "data": {
      "text/plain": [
       "(39644, 61)"
      ]
     },
     "execution_count": 4,
     "metadata": {},
     "output_type": "execute_result"
    }
   ],
   "source": [
    "df.shape"
   ]
  },
  {
   "cell_type": "code",
   "execution_count": 5,
   "id": "69b0860e-8deb-4544-9279-337f1242fcda",
   "metadata": {},
   "outputs": [
    {
     "data": {
      "text/plain": [
       "Index(['url', ' timedelta', ' n_tokens_title', ' n_tokens_content',\n",
       "       ' n_unique_tokens', ' n_non_stop_words', ' n_non_stop_unique_tokens',\n",
       "       ' num_hrefs', ' num_self_hrefs', ' num_imgs', ' num_videos',\n",
       "       ' average_token_length', ' num_keywords', ' data_channel_is_lifestyle',\n",
       "       ' data_channel_is_entertainment', ' data_channel_is_bus',\n",
       "       ' data_channel_is_socmed', ' data_channel_is_tech',\n",
       "       ' data_channel_is_world', ' kw_min_min', ' kw_max_min', ' kw_avg_min',\n",
       "       ' kw_min_max', ' kw_max_max', ' kw_avg_max', ' kw_min_avg',\n",
       "       ' kw_max_avg', ' kw_avg_avg', ' self_reference_min_shares',\n",
       "       ' self_reference_max_shares', ' self_reference_avg_sharess',\n",
       "       ' weekday_is_monday', ' weekday_is_tuesday', ' weekday_is_wednesday',\n",
       "       ' weekday_is_thursday', ' weekday_is_friday', ' weekday_is_saturday',\n",
       "       ' weekday_is_sunday', ' is_weekend', ' LDA_00', ' LDA_01', ' LDA_02',\n",
       "       ' LDA_03', ' LDA_04', ' global_subjectivity',\n",
       "       ' global_sentiment_polarity', ' global_rate_positive_words',\n",
       "       ' global_rate_negative_words', ' rate_positive_words',\n",
       "       ' rate_negative_words', ' avg_positive_polarity',\n",
       "       ' min_positive_polarity', ' max_positive_polarity',\n",
       "       ' avg_negative_polarity', ' min_negative_polarity',\n",
       "       ' max_negative_polarity', ' title_subjectivity',\n",
       "       ' title_sentiment_polarity', ' abs_title_subjectivity',\n",
       "       ' abs_title_sentiment_polarity', ' shares'],\n",
       "      dtype='object')"
      ]
     },
     "execution_count": 5,
     "metadata": {},
     "output_type": "execute_result"
    }
   ],
   "source": [
    "df.columns"
   ]
  },
  {
   "cell_type": "code",
   "execution_count": 9,
   "id": "e96b0d05-21f7-4834-9206-6cc84a58f7de",
   "metadata": {},
   "outputs": [
    {
     "data": {
      "text/plain": [
       "1400.0"
      ]
     },
     "execution_count": 9,
     "metadata": {},
     "output_type": "execute_result"
    }
   ],
   "source": [
    "df[\" shares\"].mean()"
   ]
  },
  {
   "cell_type": "code",
   "execution_count": 14,
   "id": "46ba586a-5436-494b-b1fb-bdb8b34a645e",
   "metadata": {},
   "outputs": [],
   "source": [
    " percentile_78 = df[\" shares\"].quantile(0.80)"
   ]
  },
  {
   "cell_type": "code",
   "execution_count": 15,
   "id": "1882f9f4-1569-4c97-9e8b-8800c13280e3",
   "metadata": {},
   "outputs": [
    {
     "data": {
      "text/plain": [
       "3400.0"
      ]
     },
     "execution_count": 15,
     "metadata": {},
     "output_type": "execute_result"
    }
   ],
   "source": [
    "percentile_78"
   ]
  },
  {
   "cell_type": "code",
   "execution_count": 16,
   "id": "d690767a-3d61-40bb-b708-dfe82dab58ff",
   "metadata": {},
   "outputs": [
    {
     "data": {
      "text/plain": [
       "count     39644.000000\n",
       "mean       3395.380184\n",
       "std       11626.950749\n",
       "min           1.000000\n",
       "25%         946.000000\n",
       "50%        1400.000000\n",
       "75%        2800.000000\n",
       "max      843300.000000\n",
       "Name:  shares, dtype: float64"
      ]
     },
     "execution_count": 16,
     "metadata": {},
     "output_type": "execute_result"
    }
   ],
   "source": [
    "df[\" shares\"].describe()"
   ]
  },
  {
   "cell_type": "code",
   "execution_count": 26,
   "id": "b6e9ff38-683b-49d0-a678-e3e11bda23c6",
   "metadata": {},
   "outputs": [],
   "source": [
    "\n",
    "# Assuming your DataFrame is named df\n",
    "Q1 = df[\" shares\"].quantile(0.25)\n",
    "Q3 = df[\" shares\"].quantile(0.75)\n",
    "IQR = Q3 - Q1\n",
    "\n",
    "# Define the lower and upper bounds\n",
    "lower_bound = Q1 - 1.5 * IQR\n",
    "upper_bound = Q3 + 1.5 * IQR\n",
    "\n",
    "# Filter the DataFrame to remove outliers\n",
    "df_cleaned = df[(df[\" shares\"] >= lower_bound) & (df[\" shares\"] <= upper_bound)]\n"
   ]
  },
  {
   "cell_type": "code",
   "execution_count": 27,
   "id": "4095e449-07e2-4c46-ab15-aba553ab4ad3",
   "metadata": {},
   "outputs": [
    {
     "data": {
      "text/plain": [
       "count    35103.000000\n",
       "mean      1671.972652\n",
       "std       1103.199563\n",
       "min          1.000000\n",
       "25%        903.000000\n",
       "50%       1300.000000\n",
       "75%       2100.000000\n",
       "max       5500.000000\n",
       "Name:  shares, dtype: float64"
      ]
     },
     "execution_count": 27,
     "metadata": {},
     "output_type": "execute_result"
    }
   ],
   "source": [
    "df_cleaned[\" shares\"].describe()"
   ]
  },
  {
   "cell_type": "code",
   "execution_count": 25,
   "id": "09b0f10a-494c-491e-b67b-550ca4d0b4b9",
   "metadata": {},
   "outputs": [
    {
     "data": {
      "text/plain": [
       "5581.0"
      ]
     },
     "execution_count": 25,
     "metadata": {},
     "output_type": "execute_result"
    }
   ],
   "source": [
    "upper_bound"
   ]
  },
  {
   "cell_type": "code",
   "execution_count": 29,
   "id": "eba3ee4c-cffd-432c-8b85-4ccea9bafeb2",
   "metadata": {},
   "outputs": [],
   "source": [
    "# Define upper and lower bounds based on your understanding of what an outlier is\n",
    "lower_bound = 100  # Example lower bound\n",
    "upper_bound = 10800  # Example upper bound\n",
    "\n",
    "# Filter the DataFrame to remove outliers\n",
    "df_cleaned1 = df[(df[' shares'] >= lower_bound) & (df[' shares'] <= upper_bound)]\n"
   ]
  },
  {
   "cell_type": "code",
   "execution_count": 31,
   "id": "d652d307-d652-457c-b54f-b861a9389121",
   "metadata": {},
   "outputs": [
    {
     "data": {
      "text/plain": [
       "count    37577.000000\n",
       "mean      2078.935705\n",
       "std       1871.478908\n",
       "min        100.000000\n",
       "25%        930.000000\n",
       "50%       1400.000000\n",
       "75%       2400.000000\n",
       "max      10800.000000\n",
       "Name:  shares, dtype: float64"
      ]
     },
     "execution_count": 31,
     "metadata": {},
     "output_type": "execute_result"
    }
   ],
   "source": [
    "df_cleaned1[\" shares\"].describe()"
   ]
  },
  {
   "cell_type": "code",
   "execution_count": 32,
   "id": "cc69dfb5-69e4-49e6-8da0-d8179eb7716d",
   "metadata": {},
   "outputs": [
    {
     "data": {
      "text/plain": [
       "(37577, 61)"
      ]
     },
     "execution_count": 32,
     "metadata": {},
     "output_type": "execute_result"
    }
   ],
   "source": [
    "df_cleaned1.shape"
   ]
  },
  {
   "cell_type": "code",
   "execution_count": null,
   "id": "3c57adcd-7413-4f23-b00c-f58cca7f2758",
   "metadata": {},
   "outputs": [],
   "source": [
    "2067"
   ]
  }
 ],
 "metadata": {
  "kernelspec": {
   "display_name": "Python 3 (ipykernel)",
   "language": "python",
   "name": "python3"
  },
  "language_info": {
   "codemirror_mode": {
    "name": "ipython",
    "version": 3
   },
   "file_extension": ".py",
   "mimetype": "text/x-python",
   "name": "python",
   "nbconvert_exporter": "python",
   "pygments_lexer": "ipython3",
   "version": "3.11.6"
  }
 },
 "nbformat": 4,
 "nbformat_minor": 5
}
