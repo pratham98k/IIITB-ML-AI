{
 "cells": [
  {
   "cell_type": "code",
   "execution_count": 3,
   "id": "70d1acae-be72-4b11-86df-5a5fc2ec4975",
   "metadata": {},
   "outputs": [
    {
     "name": "stdout",
     "output_type": "stream",
     "text": [
      "Prefix         0\n",
      "Assignment     2\n",
      "Tutorial      12\n",
      "Midterm       16\n",
      "TakeHome       9\n",
      "Final          5\n",
      "dtype: int64\n"
     ]
    }
   ],
   "source": [
    "import pandas as pd\n",
    "marks = pd.read_csv('class-grades.csv')\n",
    "print(marks.isnull().sum())"
   ]
  },
  {
   "cell_type": "code",
   "execution_count": 4,
   "id": "755b1870-f01d-4e7c-a9e6-e1ec3cd9de14",
   "metadata": {},
   "outputs": [
    {
     "name": "stdout",
     "output_type": "stream",
     "text": [
      "Prefix         0\n",
      "Assignment     0\n",
      "Tutorial      10\n",
      "Midterm       14\n",
      "TakeHome       7\n",
      "Final          3\n",
      "dtype: int64\n"
     ]
    }
   ],
   "source": [
    "#df = df[df.isnull().sum(axis=1)<5]\n",
    "marks = marks[marks.isnull().sum(axis=1)<5]\n",
    "print(marks.isnull().sum())"
   ]
  },
  {
   "cell_type": "code",
   "execution_count": null,
   "id": "c70009d1-003c-4a64-9c26-39e659483a40",
   "metadata": {},
   "outputs": [],
   "source": []
  }
 ],
 "metadata": {
  "kernelspec": {
   "display_name": "Python 3 (ipykernel)",
   "language": "python",
   "name": "python3"
  },
  "language_info": {
   "codemirror_mode": {
    "name": "ipython",
    "version": 3
   },
   "file_extension": ".py",
   "mimetype": "text/x-python",
   "name": "python",
   "nbconvert_exporter": "python",
   "pygments_lexer": "ipython3",
   "version": "3.11.6"
  }
 },
 "nbformat": 4,
 "nbformat_minor": 5
}
