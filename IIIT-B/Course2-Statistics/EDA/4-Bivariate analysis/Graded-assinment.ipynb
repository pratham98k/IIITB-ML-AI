{
 "cells": [
  {
   "cell_type": "code",
   "execution_count": 1,
   "id": "8d5cc8ee-46c9-4cea-bf5a-e3793e85865a",
   "metadata": {},
   "outputs": [],
   "source": [
    "#import the libraries\n",
    "import numpy as np\n",
    "import pandas as pd \n",
    "import matplotlib.pyplot as plt\n",
    "import seaborn as sns"
   ]
  },
  {
   "cell_type": "code",
   "execution_count": 2,
   "id": "769204fe-7891-4d7d-95a7-c1e12b755902",
   "metadata": {},
   "outputs": [],
   "source": [
    "df = pd.read_csv(\"nas.csv\")"
   ]
  },
  {
   "cell_type": "code",
   "execution_count": 3,
   "id": "d0f43e56-d22d-471e-b766-eda8fe7cc295",
   "metadata": {},
   "outputs": [
    {
     "data": {
      "text/plain": [
       "(8801, 64)"
      ]
     },
     "execution_count": 3,
     "metadata": {},
     "output_type": "execute_result"
    }
   ],
   "source": [
    "df.shape"
   ]
  },
  {
   "cell_type": "code",
   "execution_count": 5,
   "id": "800facf3-34c1-49d8-b4b9-629d4b988953",
   "metadata": {},
   "outputs": [
    {
     "name": "stdout",
     "output_type": "stream",
     "text": [
      "<class 'pandas.core.frame.DataFrame'>\n",
      "RangeIndex: 8801 entries, 0 to 8800\n",
      "Data columns (total 64 columns):\n",
      " #   Column                  Non-Null Count  Dtype  \n",
      "---  ------                  --------------  -----  \n",
      " 0   STUID                   8801 non-null   int64  \n",
      " 1   State                   8801 non-null   object \n",
      " 2   District                8801 non-null   int64  \n",
      " 3   Gender                  8799 non-null   object \n",
      " 4   Age                     8569 non-null   object \n",
      " 5   Category                8232 non-null   float64\n",
      " 6   Same.language           8572 non-null   float64\n",
      " 7   Siblings                8801 non-null   object \n",
      " 8   Handicap                8304 non-null   object \n",
      " 9   Father.edu              8147 non-null   object \n",
      " 10  Mother.edu              7950 non-null   object \n",
      " 11  Father.occupation       7761 non-null   object \n",
      " 12  Mother.occupation       6626 non-null   object \n",
      " 13  Below.poverty           7347 non-null   object \n",
      " 14  Use.calculator          6646 non-null   object \n",
      " 15  Use.computer            6646 non-null   object \n",
      " 16  Use.Internet            6646 non-null   object \n",
      " 17  Use.dictionary          6646 non-null   object \n",
      " 18  Read.other.books        6996 non-null   object \n",
      " 19  X..Books                8059 non-null   object \n",
      " 20  Distance                8467 non-null   object \n",
      " 21  Computer.use            8737 non-null   object \n",
      " 22  Library.use             8604 non-null   object \n",
      " 23  Like.school             8568 non-null   object \n",
      " 24  Subjects                8692 non-null   object \n",
      " 25  Give.Lang.HW            8735 non-null   object \n",
      " 26  Give.Math.HW            8735 non-null   object \n",
      " 27  Give.Scie.HW            8735 non-null   object \n",
      " 28  Give.SoSc.HW            8735 non-null   object \n",
      " 29  Correct.Lang.HW         8694 non-null   object \n",
      " 30  Correct.Math.HW         8694 non-null   object \n",
      " 31  Correct.Scie.HW         8694 non-null   object \n",
      " 32  Correct.SocS.HW         8694 non-null   object \n",
      " 33  Help.in.Study           8711 non-null   object \n",
      " 34  Private.tuition         8711 non-null   object \n",
      " 35  English.is.difficult    8761 non-null   object \n",
      " 36  Read.English            8761 non-null   object \n",
      " 37  Dictionary.to.learn     8761 non-null   object \n",
      " 38  Answer.English.WB       8761 non-null   object \n",
      " 39  Answer.English.aloud    8761 non-null   object \n",
      " 40  Maths.is.difficult      8740 non-null   object \n",
      " 41  Solve.Maths             8740 non-null   object \n",
      " 42  Solve.Maths.in.groups   8740 non-null   object \n",
      " 43  Draw.geometry           8740 non-null   object \n",
      " 44  Explain.answers         8740 non-null   object \n",
      " 45  SocSci.is.difficult     8611 non-null   object \n",
      " 46  Historical.excursions   8587 non-null   object \n",
      " 47  Participate.in.SocSci   8567 non-null   object \n",
      " 48  Small.groups.in.SocSci  8525 non-null   object \n",
      " 49  Express.SocSci.views    8488 non-null   object \n",
      " 50  Science.is.difficult    8599 non-null   object \n",
      " 51  Observe.experiments     8562 non-null   object \n",
      " 52  Conduct.experiments     8555 non-null   object \n",
      " 53  Solve.science.problems  8489 non-null   object \n",
      " 54  Express.science.views   8436 non-null   object \n",
      " 55  Watch.TV                8757 non-null   object \n",
      " 56  Read.magazine           8757 non-null   object \n",
      " 57  Read.a.book             8757 non-null   object \n",
      " 58  Play.games              8757 non-null   object \n",
      " 59  Help.in.household       8757 non-null   object \n",
      " 60  Maths..                 4190 non-null   float64\n",
      " 61  Reading..               4227 non-null   float64\n",
      " 62  Science..               4144 non-null   float64\n",
      " 63  Social..                4119 non-null   float64\n",
      "dtypes: float64(6), int64(2), object(56)\n",
      "memory usage: 4.3+ MB\n"
     ]
    }
   ],
   "source": [
    "df.info()"
   ]
  },
  {
   "cell_type": "code",
   "execution_count": 6,
   "id": "510234ec-9990-4fd1-9e04-e445d1e99df0",
   "metadata": {},
   "outputs": [
    {
     "data": {
      "text/html": [
       "<div>\n",
       "<style scoped>\n",
       "    .dataframe tbody tr th:only-of-type {\n",
       "        vertical-align: middle;\n",
       "    }\n",
       "\n",
       "    .dataframe tbody tr th {\n",
       "        vertical-align: top;\n",
       "    }\n",
       "\n",
       "    .dataframe thead th {\n",
       "        text-align: right;\n",
       "    }\n",
       "</style>\n",
       "<table border=\"1\" class=\"dataframe\">\n",
       "  <thead>\n",
       "    <tr style=\"text-align: right;\">\n",
       "      <th></th>\n",
       "      <th>STUID</th>\n",
       "      <th>State</th>\n",
       "      <th>District</th>\n",
       "      <th>Gender</th>\n",
       "      <th>Age</th>\n",
       "      <th>Category</th>\n",
       "      <th>Same.language</th>\n",
       "      <th>Siblings</th>\n",
       "      <th>Handicap</th>\n",
       "      <th>Father.edu</th>\n",
       "      <th>...</th>\n",
       "      <th>Express.science.views</th>\n",
       "      <th>Watch.TV</th>\n",
       "      <th>Read.magazine</th>\n",
       "      <th>Read.a.book</th>\n",
       "      <th>Play.games</th>\n",
       "      <th>Help.in.household</th>\n",
       "      <th>Maths..</th>\n",
       "      <th>Reading..</th>\n",
       "      <th>Science..</th>\n",
       "      <th>Social..</th>\n",
       "    </tr>\n",
       "  </thead>\n",
       "  <tbody>\n",
       "    <tr>\n",
       "      <th>0</th>\n",
       "      <td>26011001001</td>\n",
       "      <td>Maharashtra</td>\n",
       "      <td>1</td>\n",
       "      <td>Girl</td>\n",
       "      <td>13 years</td>\n",
       "      <td>3.0</td>\n",
       "      <td>2.0</td>\n",
       "      <td>1 sibling</td>\n",
       "      <td>No</td>\n",
       "      <td>Illiterate</td>\n",
       "      <td>...</td>\n",
       "      <td>Agree</td>\n",
       "      <td>Every day</td>\n",
       "      <td>Never</td>\n",
       "      <td>Once a month</td>\n",
       "      <td>Once a week</td>\n",
       "      <td>Every day</td>\n",
       "      <td>NaN</td>\n",
       "      <td>33.33</td>\n",
       "      <td>NaN</td>\n",
       "      <td>NaN</td>\n",
       "    </tr>\n",
       "    <tr>\n",
       "      <th>1</th>\n",
       "      <td>26011001002</td>\n",
       "      <td>Maharashtra</td>\n",
       "      <td>1</td>\n",
       "      <td>Girl</td>\n",
       "      <td>15 years</td>\n",
       "      <td>3.0</td>\n",
       "      <td>2.0</td>\n",
       "      <td>3 siblings</td>\n",
       "      <td>No</td>\n",
       "      <td>NaN</td>\n",
       "      <td>...</td>\n",
       "      <td>Agree</td>\n",
       "      <td>Once a week</td>\n",
       "      <td>Never</td>\n",
       "      <td>Never</td>\n",
       "      <td>Once a week</td>\n",
       "      <td>Every day</td>\n",
       "      <td>NaN</td>\n",
       "      <td>62.07</td>\n",
       "      <td>NaN</td>\n",
       "      <td>NaN</td>\n",
       "    </tr>\n",
       "    <tr>\n",
       "      <th>2</th>\n",
       "      <td>26011001003</td>\n",
       "      <td>Maharashtra</td>\n",
       "      <td>1</td>\n",
       "      <td>Girl</td>\n",
       "      <td>14 years</td>\n",
       "      <td>3.0</td>\n",
       "      <td>2.0</td>\n",
       "      <td>3 siblings</td>\n",
       "      <td>No</td>\n",
       "      <td>Degree &amp; above</td>\n",
       "      <td>...</td>\n",
       "      <td>Agree</td>\n",
       "      <td>Every day</td>\n",
       "      <td>Once a month</td>\n",
       "      <td>Once a month</td>\n",
       "      <td>Once a week</td>\n",
       "      <td>Every day</td>\n",
       "      <td>NaN</td>\n",
       "      <td>41.38</td>\n",
       "      <td>NaN</td>\n",
       "      <td>NaN</td>\n",
       "    </tr>\n",
       "    <tr>\n",
       "      <th>3</th>\n",
       "      <td>26011001004</td>\n",
       "      <td>Maharashtra</td>\n",
       "      <td>1</td>\n",
       "      <td>Boy</td>\n",
       "      <td>13 years</td>\n",
       "      <td>3.0</td>\n",
       "      <td>2.0</td>\n",
       "      <td>3 siblings</td>\n",
       "      <td>No</td>\n",
       "      <td>Secondary</td>\n",
       "      <td>...</td>\n",
       "      <td>Agree</td>\n",
       "      <td>Every day</td>\n",
       "      <td>Every day</td>\n",
       "      <td>Never</td>\n",
       "      <td>Every day</td>\n",
       "      <td>Every day</td>\n",
       "      <td>29.82</td>\n",
       "      <td>NaN</td>\n",
       "      <td>NaN</td>\n",
       "      <td>NaN</td>\n",
       "    </tr>\n",
       "    <tr>\n",
       "      <th>4</th>\n",
       "      <td>26011001005</td>\n",
       "      <td>Maharashtra</td>\n",
       "      <td>1</td>\n",
       "      <td>Girl</td>\n",
       "      <td>14 years</td>\n",
       "      <td>3.0</td>\n",
       "      <td>2.0</td>\n",
       "      <td>2 siblings</td>\n",
       "      <td>No</td>\n",
       "      <td>Primary</td>\n",
       "      <td>...</td>\n",
       "      <td>Neither</td>\n",
       "      <td>Never</td>\n",
       "      <td>Never</td>\n",
       "      <td>Once a month</td>\n",
       "      <td>Once a week</td>\n",
       "      <td>Every day</td>\n",
       "      <td>NaN</td>\n",
       "      <td>NaN</td>\n",
       "      <td>27.27</td>\n",
       "      <td>NaN</td>\n",
       "    </tr>\n",
       "    <tr>\n",
       "      <th>...</th>\n",
       "      <td>...</td>\n",
       "      <td>...</td>\n",
       "      <td>...</td>\n",
       "      <td>...</td>\n",
       "      <td>...</td>\n",
       "      <td>...</td>\n",
       "      <td>...</td>\n",
       "      <td>...</td>\n",
       "      <td>...</td>\n",
       "      <td>...</td>\n",
       "      <td>...</td>\n",
       "      <td>...</td>\n",
       "      <td>...</td>\n",
       "      <td>...</td>\n",
       "      <td>...</td>\n",
       "      <td>...</td>\n",
       "      <td>...</td>\n",
       "      <td>...</td>\n",
       "      <td>...</td>\n",
       "      <td>...</td>\n",
       "      <td>...</td>\n",
       "    </tr>\n",
       "    <tr>\n",
       "      <th>8796</th>\n",
       "      <td>26141270036</td>\n",
       "      <td>Maharashtra</td>\n",
       "      <td>14</td>\n",
       "      <td>Boy</td>\n",
       "      <td>13 years</td>\n",
       "      <td>4.0</td>\n",
       "      <td>1.0</td>\n",
       "      <td>1 sibling</td>\n",
       "      <td>No</td>\n",
       "      <td>Secondary</td>\n",
       "      <td>...</td>\n",
       "      <td>Agree</td>\n",
       "      <td>Every day</td>\n",
       "      <td>Every day</td>\n",
       "      <td>Once a week</td>\n",
       "      <td>Every day</td>\n",
       "      <td>Every day</td>\n",
       "      <td>NaN</td>\n",
       "      <td>NaN</td>\n",
       "      <td>34.55</td>\n",
       "      <td>30.61</td>\n",
       "    </tr>\n",
       "    <tr>\n",
       "      <th>8797</th>\n",
       "      <td>26141270037</td>\n",
       "      <td>Maharashtra</td>\n",
       "      <td>14</td>\n",
       "      <td>Boy</td>\n",
       "      <td>13 years</td>\n",
       "      <td>3.0</td>\n",
       "      <td>1.0</td>\n",
       "      <td>2 siblings</td>\n",
       "      <td>No</td>\n",
       "      <td>NaN</td>\n",
       "      <td>...</td>\n",
       "      <td>Agree</td>\n",
       "      <td>Every day</td>\n",
       "      <td>Every day</td>\n",
       "      <td>Once a week</td>\n",
       "      <td>Once a week</td>\n",
       "      <td>Once a month</td>\n",
       "      <td>16.95</td>\n",
       "      <td>46.67</td>\n",
       "      <td>NaN</td>\n",
       "      <td>NaN</td>\n",
       "    </tr>\n",
       "    <tr>\n",
       "      <th>8798</th>\n",
       "      <td>26141270038</td>\n",
       "      <td>Maharashtra</td>\n",
       "      <td>14</td>\n",
       "      <td>Boy</td>\n",
       "      <td>14 years</td>\n",
       "      <td>4.0</td>\n",
       "      <td>1.0</td>\n",
       "      <td>1 sibling</td>\n",
       "      <td>No</td>\n",
       "      <td>Sr secondary</td>\n",
       "      <td>...</td>\n",
       "      <td>Agree</td>\n",
       "      <td>Every day</td>\n",
       "      <td>Every day</td>\n",
       "      <td>Once a week</td>\n",
       "      <td>Every day</td>\n",
       "      <td>Every day</td>\n",
       "      <td>24.56</td>\n",
       "      <td>55.17</td>\n",
       "      <td>NaN</td>\n",
       "      <td>NaN</td>\n",
       "    </tr>\n",
       "    <tr>\n",
       "      <th>8799</th>\n",
       "      <td>26141270039</td>\n",
       "      <td>Maharashtra</td>\n",
       "      <td>14</td>\n",
       "      <td>Boy</td>\n",
       "      <td>13 years</td>\n",
       "      <td>4.0</td>\n",
       "      <td>NaN</td>\n",
       "      <td>1 sibling</td>\n",
       "      <td>No</td>\n",
       "      <td>Sr secondary</td>\n",
       "      <td>...</td>\n",
       "      <td>Agree</td>\n",
       "      <td>Once a week</td>\n",
       "      <td>Once a week</td>\n",
       "      <td>Never</td>\n",
       "      <td>Every day</td>\n",
       "      <td>Every day</td>\n",
       "      <td>NaN</td>\n",
       "      <td>NaN</td>\n",
       "      <td>23.64</td>\n",
       "      <td>34.69</td>\n",
       "    </tr>\n",
       "    <tr>\n",
       "      <th>8800</th>\n",
       "      <td>26141270040</td>\n",
       "      <td>Maharashtra</td>\n",
       "      <td>14</td>\n",
       "      <td>Boy</td>\n",
       "      <td>13 years</td>\n",
       "      <td>4.0</td>\n",
       "      <td>NaN</td>\n",
       "      <td>1 sibling</td>\n",
       "      <td>No</td>\n",
       "      <td>Sr secondary</td>\n",
       "      <td>...</td>\n",
       "      <td>Agree</td>\n",
       "      <td>Once a week</td>\n",
       "      <td>Once a week</td>\n",
       "      <td>Once a week</td>\n",
       "      <td>Every day</td>\n",
       "      <td>Every day</td>\n",
       "      <td>NaN</td>\n",
       "      <td>NaN</td>\n",
       "      <td>27.27</td>\n",
       "      <td>30.61</td>\n",
       "    </tr>\n",
       "  </tbody>\n",
       "</table>\n",
       "<p>8801 rows × 64 columns</p>\n",
       "</div>"
      ],
      "text/plain": [
       "            STUID        State  District Gender       Age  Category  \\\n",
       "0     26011001001  Maharashtra         1   Girl  13 years       3.0   \n",
       "1     26011001002  Maharashtra         1   Girl  15 years       3.0   \n",
       "2     26011001003  Maharashtra         1   Girl  14 years       3.0   \n",
       "3     26011001004  Maharashtra         1    Boy  13 years       3.0   \n",
       "4     26011001005  Maharashtra         1   Girl  14 years       3.0   \n",
       "...           ...          ...       ...    ...       ...       ...   \n",
       "8796  26141270036  Maharashtra        14    Boy  13 years       4.0   \n",
       "8797  26141270037  Maharashtra        14    Boy  13 years       3.0   \n",
       "8798  26141270038  Maharashtra        14    Boy  14 years       4.0   \n",
       "8799  26141270039  Maharashtra        14    Boy  13 years       4.0   \n",
       "8800  26141270040  Maharashtra        14    Boy  13 years       4.0   \n",
       "\n",
       "      Same.language    Siblings Handicap      Father.edu  ...  \\\n",
       "0               2.0   1 sibling       No      Illiterate  ...   \n",
       "1               2.0  3 siblings       No             NaN  ...   \n",
       "2               2.0  3 siblings       No  Degree & above  ...   \n",
       "3               2.0  3 siblings       No       Secondary  ...   \n",
       "4               2.0  2 siblings       No         Primary  ...   \n",
       "...             ...         ...      ...             ...  ...   \n",
       "8796            1.0   1 sibling       No       Secondary  ...   \n",
       "8797            1.0  2 siblings       No             NaN  ...   \n",
       "8798            1.0   1 sibling       No    Sr secondary  ...   \n",
       "8799            NaN   1 sibling       No    Sr secondary  ...   \n",
       "8800            NaN   1 sibling       No    Sr secondary  ...   \n",
       "\n",
       "     Express.science.views     Watch.TV Read.magazine   Read.a.book  \\\n",
       "0                    Agree    Every day         Never  Once a month   \n",
       "1                    Agree  Once a week         Never         Never   \n",
       "2                    Agree    Every day  Once a month  Once a month   \n",
       "3                    Agree    Every day     Every day         Never   \n",
       "4                  Neither        Never         Never  Once a month   \n",
       "...                    ...          ...           ...           ...   \n",
       "8796                 Agree    Every day     Every day   Once a week   \n",
       "8797                 Agree    Every day     Every day   Once a week   \n",
       "8798                 Agree    Every day     Every day   Once a week   \n",
       "8799                 Agree  Once a week   Once a week         Never   \n",
       "8800                 Agree  Once a week   Once a week   Once a week   \n",
       "\n",
       "       Play.games Help.in.household Maths.. Reading.. Science.. Social..  \n",
       "0     Once a week         Every day     NaN     33.33       NaN      NaN  \n",
       "1     Once a week         Every day     NaN     62.07       NaN      NaN  \n",
       "2     Once a week         Every day     NaN     41.38       NaN      NaN  \n",
       "3       Every day         Every day   29.82       NaN       NaN      NaN  \n",
       "4     Once a week         Every day     NaN       NaN     27.27      NaN  \n",
       "...           ...               ...     ...       ...       ...      ...  \n",
       "8796    Every day         Every day     NaN       NaN     34.55    30.61  \n",
       "8797  Once a week      Once a month   16.95     46.67       NaN      NaN  \n",
       "8798    Every day         Every day   24.56     55.17       NaN      NaN  \n",
       "8799    Every day         Every day     NaN       NaN     23.64    34.69  \n",
       "8800    Every day         Every day     NaN       NaN     27.27    30.61  \n",
       "\n",
       "[8801 rows x 64 columns]"
      ]
     },
     "execution_count": 6,
     "metadata": {},
     "output_type": "execute_result"
    }
   ],
   "source": [
    "df"
   ]
  },
  {
   "cell_type": "code",
   "execution_count": 8,
   "id": "ad9b0823-08af-4564-b66c-b3f51b36f6b8",
   "metadata": {},
   "outputs": [
    {
     "data": {
      "text/plain": [
       "Mother.edu\n",
       "Secondary         2591\n",
       "Illiterate        2545\n",
       "Primary           2220\n",
       "Sr secondary       433\n",
       "Degree & above     161\n",
       "Name: count, dtype: int64"
      ]
     },
     "execution_count": 8,
     "metadata": {},
     "output_type": "execute_result"
    }
   ],
   "source": [
    "df[\"Mother.edu\"].value_counts()"
   ]
  },
  {
   "cell_type": "code",
   "execution_count": 14,
   "id": "0b0de3cb-a621-4503-a3a7-22aa56bf405d",
   "metadata": {},
   "outputs": [
    {
     "data": {
      "text/plain": [
       "Siblings\n",
       "2 siblings      2979\n",
       "1 sibling       2726\n",
       "3 siblings      1526\n",
       "4+ siblings     1167\n",
       "Single child     403\n",
       "Name: count, dtype: int64"
      ]
     },
     "execution_count": 14,
     "metadata": {},
     "output_type": "execute_result"
    }
   ],
   "source": [
    "df[\"Siblings\"].value_counts()"
   ]
  },
  {
   "cell_type": "code",
   "execution_count": 12,
   "id": "91511d11-40f2-4830-9ac9-4351b55ea917",
   "metadata": {},
   "outputs": [
    {
     "data": {
      "text/plain": [
       "<Axes: xlabel='Siblings', ylabel='Mother.edu'>"
      ]
     },
     "execution_count": 12,
     "metadata": {},
     "output_type": "execute_result"
    },
    {
     "data": {
      "image/png": "[encoded data removed]",
      "text/plain": [
       "<Figure size 640x480 with 1 Axes>"
      ]
     },
     "metadata": {},
     "output_type": "display_data"
    }
   ],
   "source": [
    "sns.barplot(data=df,  x = df[\"Siblings\"], y = df[\"Mother.edu\"])"
   ]
  },
  {
   "cell_type": "code",
   "execution_count": 13,
   "id": "eb0fe51e-aa0a-4c44-90d7-186642056b74",
   "metadata": {},
   "outputs": [
    {
     "data": {
      "text/plain": [
       "<Axes: xlabel='Siblings', ylabel='Mother.edu'>"
      ]
     },
     "execution_count": 13,
     "metadata": {},
     "output_type": "execute_result"
    },
    {
     "data": {
      "image/png": "[encoded data removed]",
      "text/plain": [
       "<Figure size 640x480 with 1 Axes>"
      ]
     },
     "metadata": {},
     "output_type": "display_data"
    }
   ],
   "source": [
    "pivot_table = pd.pivot_table(df, values='Siblings', index='Mother.edu', aggfunc='count')\n",
    "print(pivot_table)"
   ]
  },
  {
   "cell_type": "code",
   "execution_count": 15,
   "id": "611867e5-0adf-4cd5-99d1-e69609807edc",
   "metadata": {},
   "outputs": [
    {
     "data": {
      "text/plain": [
       "<Axes: xlabel='Siblings', ylabel='Mother.edu'>"
      ]
     },
     "execution_count": 15,
     "metadata": {},
     "output_type": "execute_result"
    },
    {
     "data": {
      "image/png": "[encoded data removed]",
      "text/plain": [
       "<Figure size 640x480 with 1 Axes>"
      ]
     },
     "metadata": {},
     "output_type": "display_data"
    }
   ],
   "source": [
    "sns.barplot(data=df,  x = df[\"Siblings\"], y = df[\"Mother.edu\"] == \"Illiterate\")"
   ]
  },
  {
   "cell_type": "code",
   "execution_count": 16,
   "id": "892f5766-06f4-4221-b9ae-10a99a0cc6b5",
   "metadata": {},
   "outputs": [
    {
     "name": "stdout",
     "output_type": "stream",
     "text": [
      "                Siblings\n",
      "Mother.edu              \n",
      "Degree & above       161\n",
      "Illiterate          2545\n",
      "Primary             2220\n",
      "Secondary           2591\n",
      "Sr secondary         433\n"
     ]
    }
   ],
   "source": [
    "pivot_table = pd.pivot_table(df, values='Siblings', index='Mother.edu', aggfunc='count')\n",
    "print(pivot_table)"
   ]
  },
  {
   "cell_type": "code",
   "execution_count": null,
   "id": "37c7c4c1-8a60-4bf7-b5b3-d4dd23c9e603",
   "metadata": {},
   "outputs": [],
   "source": []
  }
 ],
 "metadata": {
  "kernelspec": {
   "display_name": "Python 3 (ipykernel)",
   "language": "python",
   "name": "python3"
  },
  "language_info": {
   "codemirror_mode": {
    "name": "ipython",
    "version": 3
   },
   "file_extension": ".py",
   "mimetype": "text/x-python",
   "name": "python",
   "nbconvert_exporter": "python",
   "pygments_lexer": "ipython3",
   "version": "3.11.6"
  }
 },
 "nbformat": 4,
 "nbformat_minor": 5
}
