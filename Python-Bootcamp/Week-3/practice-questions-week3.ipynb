{
 "cells": [
  {
   "cell_type": "code",
   "execution_count": 9,
   "id": "168e7868",
   "metadata": {},
   "outputs": [],
   "source": [
    "l1=[500, 789, 2112, 9097, 5894, 9062, 8977, 1223, 773, 600]\n",
    "l2=[500, 789, 2112, 9097, 5894, 9062, 8977, 1223, 773, 600]"
   ]
  },
  {
   "cell_type": "code",
   "execution_count": 8,
   "id": "505f5763",
   "metadata": {},
   "outputs": [
    {
     "data": {
      "text/plain": [
       "[500, 2112, 5894, 9062, 600]"
      ]
     },
     "execution_count": 8,
     "metadata": {},
     "output_type": "execute_result"
    }
   ],
   "source": [
    "newl1= list(filter(lambda x : (x%2 ==0),l1 ))\n",
    "newl1"
   ]
  },
  {
   "cell_type": "code",
   "execution_count": 27,
   "id": "92fa28d5",
   "metadata": {},
   "outputs": [
    {
     "data": {
      "text/plain": [
       "'\\nEven numbers in a list\\nDescription\\nGiven a list of integers, write a python code to find all the even numbers present in the list.\\n\\n\\nNote: Try using lambda and filter functions to solve the problem.\\n\\nInput: A list of integers\\n\\nOutput: A list of integers\\n\\n----------------------------------------------------------------------\\n\\nSample input: [5, 7, 22, 97, 54, 62, 77, 23, 73, 61] \\n\\nSample output: [22, 54, 62]\\n\\n----------------------------------------------------------------------\\n\\nSample input: [500, 789, 2112, 9097, 5894, 9062, 8977, 1223, 773, 600]\\n\\nSample output: [500, 2112, 5894, 9062, 600]\\n\\n'"
      ]
     },
     "execution_count": 27,
     "metadata": {},
     "output_type": "execute_result"
    }
   ],
   "source": [
    "'''\n",
    "Even numbers in a list\n",
    "Description\n",
    "Given a list of integers, write a python code to find all the even numbers present in the list.\n",
    "\n",
    "\n",
    "Note: Try using lambda and filter functions to solve the problem.\n",
    "\n",
    "Input: A list of integers\n",
    "\n",
    "Output: A list of integers\n",
    "\n",
    "----------------------------------------------------------------------\n",
    "\n",
    "Sample input: [5, 7, 22, 97, 54, 62, 77, 23, 73, 61] \n",
    "\n",
    "Sample output: [22, 54, 62]\n",
    "\n",
    "----------------------------------------------------------------------\n",
    "\n",
    "Sample input: [500, 789, 2112, 9097, 5894, 9062, 8977, 1223, 773, 600]\n",
    "\n",
    "Sample output: [500, 2112, 5894, 9062, 600]\n",
    "\n",
    "'''"
   ]
  },
  {
   "cell_type": "code",
   "execution_count": 19,
   "id": "bcdf1046",
   "metadata": {},
   "outputs": [],
   "source": [
    "l1=[500, 789, 2112, 9097, 5894, 9062, 8977, 1223, 773, 600]"
   ]
  },
  {
   "cell_type": "code",
   "execution_count": 23,
   "id": "9c1dad6a",
   "metadata": {},
   "outputs": [
    {
     "name": "stdout",
     "output_type": "stream",
     "text": [
      "[500, 2112, 5894, 9062, 600]\n"
     ]
    }
   ],
   "source": [
    "#my solution\n",
    "newl1=list(filter(lambda x : (x%2 ==0),l1 ))\n",
    "print(newl1)"
   ]
  },
  {
   "cell_type": "code",
   "execution_count": 25,
   "id": "f8289073",
   "metadata": {},
   "outputs": [
    {
     "name": "stdout",
     "output_type": "stream",
     "text": [
      "[500, 2112, 5894, 9062, 600]\n"
     ]
    }
   ],
   "source": [
    "#import ast\n",
    "\n",
    "#read the input here\n",
    "#input_list = ast.literal_eval(input())\n",
    "\n",
    "#since the result is a subset of the input list, we will use the filter function. \n",
    "#instead of for loop, we will use the lambda function.  \n",
    "final_list = list(filter(lambda x: (x%2 == 0) , l1)) \n",
    "print(final_list)\n",
    "\n"
   ]
  },
  {
   "cell_type": "code",
   "execution_count": 26,
   "id": "b585e3c3",
   "metadata": {},
   "outputs": [
    {
     "data": {
      "text/plain": [
       "'\\nTriple the list elements\\nDescription\\nGiven a list of integers, write a python code to triple all the values in the list.\\nNote: Try using lambda and map functions to solve the problem.\\n\\nInput: A list of integers\\n\\nOutput: A list of integers\\n\\n----------------------------------------------------------------------\\n\\nSample input: [5, 7, 22, 97, 54, 62, 77, 23, 73, 61]\\n\\nOutput: [15, 21, 66, 291, 162, 186, 231, 69, 219, 183]\\n\\n----------------------------------------------------------------------\\n\\nSample input: [15, 71, 2, 9, 5, 6, 11, 3, 7, 6]\\n\\nOutput: [45, 213, 6, 27, 15, 18, 33, 9, 21, 18]\\n'"
      ]
     },
     "execution_count": 26,
     "metadata": {},
     "output_type": "execute_result"
    }
   ],
   "source": [
    "'''\n",
    "Triple the list elements\n",
    "Description\n",
    "Given a list of integers, write a python code to triple all the values in the list.\n",
    "Note: Try using lambda and map functions to solve the problem.\n",
    "\n",
    "Input: A list of integers\n",
    "\n",
    "Output: A list of integers\n",
    "\n",
    "----------------------------------------------------------------------\n",
    "\n",
    "Sample input: [5, 7, 22, 97, 54, 62, 77, 23, 73, 61]\n",
    "\n",
    "Output: [15, 21, 66, 291, 162, 186, 231, 69, 219, 183]\n",
    "\n",
    "----------------------------------------------------------------------\n",
    "\n",
    "Sample input: [15, 71, 2, 9, 5, 6, 11, 3, 7, 6]\n",
    "\n",
    "Output: [45, 213, 6, 27, 15, 18, 33, 9, 21, 18]\n",
    "'''"
   ]
  },
  {
   "cell_type": "code",
   "execution_count": 28,
   "id": "7341a0dc",
   "metadata": {},
   "outputs": [],
   "source": [
    "#list(map(lambda n: n * 2, [1, 2, 3, 4, 5]))\n",
    "s1=[5, 7, 22, 97, 54, 62, 77, 23, 73, 61]"
   ]
  },
  {
   "cell_type": "code",
   "execution_count": 29,
   "id": "55737489",
   "metadata": {},
   "outputs": [
    {
     "data": {
      "text/plain": [
       "[15, 21, 66, 291, 162, 186, 231, 69, 219, 183]"
      ]
     },
     "execution_count": 29,
     "metadata": {},
     "output_type": "execute_result"
    }
   ],
   "source": [
    "list(map(lambda n: n*3, s1))"
   ]
  },
  {
   "cell_type": "code",
   "execution_count": 30,
   "id": "d66fa86d",
   "metadata": {},
   "outputs": [],
   "source": [
    "l4=[{ \"name\" : \"Arpit\", \"rank\" : 20}, { \"name\" : \"Manjeet\", \"rank\" : 20 },{ \"name\" : \"Aravind\" , \"rank\" : 19 }]"
   ]
  },
  {
   "cell_type": "code",
   "execution_count": 32,
   "id": "6644fcac",
   "metadata": {},
   "outputs": [],
   "source": []
  },
  {
   "cell_type": "code",
   "execution_count": 33,
   "id": "7e851404",
   "metadata": {},
   "outputs": [
    {
     "data": {
      "text/plain": [
       "{'name': 'rank'}"
      ]
     },
     "execution_count": 33,
     "metadata": {},
     "output_type": "execute_result"
    }
   ],
   "source": []
  },
  {
   "cell_type": "code",
   "execution_count": 34,
   "id": "86eee0dc",
   "metadata": {},
   "outputs": [],
   "source": [
    "list1=['Arkam', 'Bairstow', 'Cairy', 'Darpan'] \n",
    "\n",
    "list2=['ARKAM', 'Bairstow', 'Cairy', 'Darpan', 'Dhoni', 'Sachin']\n",
    "\n",
    "list3=['arkam', 'bairstow', 'Cheteshwar', 'Dinesh']"
   ]
  },
  {
   "cell_type": "code",
   "execution_count": 35,
   "id": "299678a9",
   "metadata": {},
   "outputs": [],
   "source": [
    "list10=list(map(lambda n : n.lower(), list1))"
   ]
  },
  {
   "cell_type": "code",
   "execution_count": 37,
   "id": "d96aa218",
   "metadata": {},
   "outputs": [],
   "source": [
    "list20=list(map(lambda n : n.lower(), list2))"
   ]
  },
  {
   "cell_type": "code",
   "execution_count": 38,
   "id": "319509dc",
   "metadata": {},
   "outputs": [],
   "source": [
    "list30=list(map(lambda n : n.lower(), list3))"
   ]
  },
  {
   "cell_type": "code",
   "execution_count": 40,
   "id": "5223427f",
   "metadata": {},
   "outputs": [
    {
     "data": {
      "text/plain": [
       "['arkam', 'bairstow', 'cairy', 'darpan']"
      ]
     },
     "execution_count": 40,
     "metadata": {},
     "output_type": "execute_result"
    }
   ],
   "source": [
    "list10"
   ]
  },
  {
   "cell_type": "code",
   "execution_count": 43,
   "id": "66558b86",
   "metadata": {},
   "outputs": [
    {
     "data": {
      "text/plain": [
       "['arkam', 'bairstow', 'cairy', 'darpan', 'dhoni', 'sachin']"
      ]
     },
     "execution_count": 43,
     "metadata": {},
     "output_type": "execute_result"
    }
   ],
   "source": [
    "list20"
   ]
  },
  {
   "cell_type": "code",
   "execution_count": 42,
   "id": "88b50e32",
   "metadata": {},
   "outputs": [
    {
     "data": {
      "text/plain": [
       "['arkam', 'bairstow', 'cheteshwar', 'dinesh']"
      ]
     },
     "execution_count": 42,
     "metadata": {},
     "output_type": "execute_result"
    }
   ],
   "source": [
    "list30"
   ]
  },
  {
   "cell_type": "code",
   "execution_count": 48,
   "id": "09183d6a",
   "metadata": {},
   "outputs": [],
   "source": [
    "my_set=set(list10).intersection(list20, list30)"
   ]
  },
  {
   "cell_type": "code",
   "execution_count": 50,
   "id": "23cb8f5f",
   "metadata": {},
   "outputs": [],
   "source": [
    "my_list=list(my_set)"
   ]
  },
  {
   "cell_type": "code",
   "execution_count": 51,
   "id": "8718607c",
   "metadata": {},
   "outputs": [
    {
     "data": {
      "text/plain": [
       "['arkam', 'bairstow']"
      ]
     },
     "execution_count": 51,
     "metadata": {},
     "output_type": "execute_result"
    }
   ],
   "source": [
    "my_list"
   ]
  },
  {
   "cell_type": "code",
   "execution_count": 52,
   "id": "d26a0bf0",
   "metadata": {},
   "outputs": [],
   "source": [
    "new_list=[{4: 'Viking', 9: 'Happy', 10: 'Tony', 2: 'Rogers'}, {12: 'Vikram', 19: 'Vipan'}, {3: 'Kohli'}, {1: 'Ronaldo', 29: 'Harish', 7: 'Ganesh'}]"
   ]
  },
  {
   "cell_type": "code",
   "execution_count": 58,
   "id": "9833c170",
   "metadata": {},
   "outputs": [
    {
     "data": {
      "text/plain": [
       "4"
      ]
     },
     "execution_count": 58,
     "metadata": {},
     "output_type": "execute_result"
    }
   ],
   "source": []
  },
  {
   "cell_type": "code",
   "execution_count": null,
   "id": "c327f435",
   "metadata": {},
   "outputs": [],
   "source": []
  }
 ],
 "metadata": {
  "kernelspec": {
   "display_name": "Python 3 (ipykernel)",
   "language": "python",
   "name": "python3"
  },
  "language_info": {
   "codemirror_mode": {
    "name": "ipython",
    "version": 3
   },
   "file_extension": ".py",
   "mimetype": "text/x-python",
   "name": "python",
   "nbconvert_exporter": "python",
   "pygments_lexer": "ipython3",
   "version": "3.11.7"
  }
 },
 "nbformat": 4,
 "nbformat_minor": 5
}
