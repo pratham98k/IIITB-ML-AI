{
 "cells": [
  {
   "cell_type": "code",
   "execution_count": 6,
   "id": "95cb90ff-81ac-405e-9332-23e6a330e7c2",
   "metadata": {},
   "outputs": [],
   "source": [
    "n=4\n",
    "l1=[]\n",
    "for i in range(1,n+1):\n",
    "    l1.append(i**2)"
   ]
  },
  {
   "cell_type": "code",
   "execution_count": 7,
   "id": "040f1c9f-9af7-4b49-bcda-708ca92c6e90",
   "metadata": {},
   "outputs": [
    {
     "data": {
      "text/plain": [
       "[1, 4, 9, 16]"
      ]
     },
     "execution_count": 7,
     "metadata": {},
     "output_type": "execute_result"
    }
   ],
   "source": [
    "l1"
   ]
  },
  {
   "cell_type": "code",
   "execution_count": 5,
   "id": "f4f0b253-b532-4850-88f9-3a356609404b",
   "metadata": {},
   "outputs": [
    {
     "data": {
      "text/plain": [
       "range(0, 5)"
      ]
     },
     "execution_count": 5,
     "metadata": {},
     "output_type": "execute_result"
    }
   ],
   "source": []
  },
  {
   "cell_type": "code",
   "execution_count": 8,
   "id": "5af24700-15ba-4506-9091-0db0cc83fc69",
   "metadata": {},
   "outputs": [],
   "source": [
    "l2=[i**2 for i in range(1,n+1)]"
   ]
  },
  {
   "cell_type": "code",
   "execution_count": 9,
   "id": "da61be53-f0f6-4da8-a024-81c961161c5c",
   "metadata": {},
   "outputs": [
    {
     "data": {
      "text/plain": [
       "[1, 4, 9, 16]"
      ]
     },
     "execution_count": 9,
     "metadata": {},
     "output_type": "execute_result"
    }
   ],
   "source": [
    "l2"
   ]
  },
  {
   "cell_type": "code",
   "execution_count": 10,
   "id": "9c77459d-6cbd-4d83-ae9d-a83f7ecbe20b",
   "metadata": {},
   "outputs": [],
   "source": [
    "l3=['wood','old','apple','big','item','euphoria']"
   ]
  },
  {
   "cell_type": "code",
   "execution_count": 11,
   "id": "2cc434aa-df9e-4834-b34d-ac3451a5ea0f",
   "metadata": {},
   "outputs": [],
   "source": [
    "l4=[]"
   ]
  },
  {
   "cell_type": "code",
   "execution_count": 14,
   "id": "acf74468-2b7c-4e46-b7f6-17f14a32b4f4",
   "metadata": {},
   "outputs": [],
   "source": [
    "for i in l3:\n",
    "    if i[0] in 'a,e,i,o,u':\n",
    "        l4.append(i)"
   ]
  },
  {
   "cell_type": "code",
   "execution_count": 15,
   "id": "3cd44c26-ea12-457e-8eb5-d3244a734287",
   "metadata": {},
   "outputs": [
    {
     "data": {
      "text/plain": [
       "['old', 'apple', 'item', 'euphoria']"
      ]
     },
     "execution_count": 15,
     "metadata": {},
     "output_type": "execute_result"
    }
   ],
   "source": [
    "l4"
   ]
  },
  {
   "cell_type": "code",
   "execution_count": 16,
   "id": "3cb96ed9-0564-47ef-8bbd-3e738f082b57",
   "metadata": {},
   "outputs": [
    {
     "data": {
      "text/plain": [
       "['old', 'apple', 'item', 'euphoria']"
      ]
     },
     "execution_count": 16,
     "metadata": {},
     "output_type": "execute_result"
    }
   ],
   "source": [
    "[i for i in l3 if i[0] in 'a,e,i,o,u']"
   ]
  },
  {
   "cell_type": "code",
   "execution_count": 17,
   "id": "3203ad9e-51d3-4dc0-9d86-a818fb300662",
   "metadata": {},
   "outputs": [],
   "source": [
    "input_list = list(range(1,100))\n",
    "output_dict = {}\n",
    "\n",
    "for val in input_list:\n",
    "    if val % 3 == 0:\n",
    "        output_dict[val] = val**3"
   ]
  },
  {
   "cell_type": "code",
   "execution_count": 18,
   "id": "8ced065b-7fb9-4ba5-8150-873b8af76ee5",
   "metadata": {},
   "outputs": [
    {
     "name": "stdout",
     "output_type": "stream",
     "text": [
      "{3: 27, 6: 216, 9: 729, 12: 1728, 15: 3375, 18: 5832, 21: 9261, 24: 13824, 27: 19683, 30: 27000, 33: 35937, 36: 46656, 39: 59319, 42: 74088, 45: 91125, 48: 110592, 51: 132651, 54: 157464, 57: 185193, 60: 216000, 63: 250047, 66: 287496, 69: 328509, 72: 373248, 75: 421875, 78: 474552, 81: 531441, 84: 592704, 87: 658503, 90: 729000, 93: 804357, 96: 884736, 99: 970299}\n"
     ]
    }
   ],
   "source": [
    "print(output_dict)"
   ]
  },
  {
   "cell_type": "code",
   "execution_count": 19,
   "id": "9024435e-60c7-4d5c-a127-fe93ee139faf",
   "metadata": {},
   "outputs": [],
   "source": [
    "output_dict1 = {val: val**3 for val in input_list if val % 3 == 0  }"
   ]
  },
  {
   "cell_type": "code",
   "execution_count": 20,
   "id": "ad04c8c7-14f4-44e7-a3d7-d2e70303a38d",
   "metadata": {},
   "outputs": [
    {
     "data": {
      "text/plain": [
       "{3: 27,\n",
       " 6: 216,\n",
       " 9: 729,\n",
       " 12: 1728,\n",
       " 15: 3375,\n",
       " 18: 5832,\n",
       " 21: 9261,\n",
       " 24: 13824,\n",
       " 27: 19683,\n",
       " 30: 27000,\n",
       " 33: 35937,\n",
       " 36: 46656,\n",
       " 39: 59319,\n",
       " 42: 74088,\n",
       " 45: 91125,\n",
       " 48: 110592,\n",
       " 51: 132651,\n",
       " 54: 157464,\n",
       " 57: 185193,\n",
       " 60: 216000,\n",
       " 63: 250047,\n",
       " 66: 287496,\n",
       " 69: 328509,\n",
       " 72: 373248,\n",
       " 75: 421875,\n",
       " 78: 474552,\n",
       " 81: 531441,\n",
       " 84: 592704,\n",
       " 87: 658503,\n",
       " 90: 729000,\n",
       " 93: 804357,\n",
       " 96: 884736,\n",
       " 99: 970299}"
      ]
     },
     "execution_count": 20,
     "metadata": {},
     "output_type": "execute_result"
    }
   ],
   "source": [
    "output_dict1"
   ]
  },
  {
   "cell_type": "code",
   "execution_count": 21,
   "id": "884077d3-6752-4d8f-8e10-26d50db05ab4",
   "metadata": {},
   "outputs": [
    {
     "name": "stdout",
     "output_type": "stream",
     "text": [
      "['ad', 'ae', 'af', 'bd', 'be', 'bf', 'cd', 'ce', 'cf']\n"
     ]
    }
   ],
   "source": [
    "print([i+j for i in \"abc\" for j in \"def\"])"
   ]
  },
  {
   "cell_type": "code",
   "execution_count": 22,
   "id": "20d2646a-f690-4c7f-b9f9-a2c43f9e5cfe",
   "metadata": {},
   "outputs": [
    {
     "name": "stdout",
     "output_type": "stream",
     "text": [
      "{'A': 'aaa', 'C': 'ccc', 'B': 'bbb', 'D': 'ddd'}\n"
     ]
    }
   ],
   "source": [
    "d = {x.upper(): x*3 for x in 'acbd'}\n",
    "print(d)"
   ]
  },
  {
   "cell_type": "code",
   "execution_count": 23,
   "id": "68f8d7e6-6598-4152-b9ea-28b6e885ffb2",
   "metadata": {},
   "outputs": [],
   "source": [
    "#function\n",
    "\n",
    "def name_function(n):\n",
    "    #write function code\n",
    "    return n*2\n",
    "    "
   ]
  },
  {
   "cell_type": "code",
   "execution_count": 24,
   "id": "c524631c-f570-4a47-9aaf-c9374701e963",
   "metadata": {},
   "outputs": [
    {
     "data": {
      "text/plain": [
       "4"
      ]
     },
     "execution_count": 24,
     "metadata": {},
     "output_type": "execute_result"
    }
   ],
   "source": [
    "name_function(2)"
   ]
  },
  {
   "cell_type": "code",
   "execution_count": null,
   "id": "38790607-3a5c-464d-a689-c43476cd78eb",
   "metadata": {},
   "outputs": [],
   "source": []
  },
  {
   "cell_type": "code",
   "execution_count": null,
   "id": "aa9c0049-45e2-44b0-908e-af5d88e41bd9",
   "metadata": {},
   "outputs": [],
   "source": []
  },
  {
   "cell_type": "code",
   "execution_count": null,
   "id": "f9981f0b-ed11-44d3-ba41-c28c9d498478",
   "metadata": {},
   "outputs": [],
   "source": []
  },
  {
   "cell_type": "code",
   "execution_count": 29,
   "id": "ef3c3d60-8fd1-4d19-88d1-c0cb0f006066",
   "metadata": {},
   "outputs": [
    {
     "name": "stdout",
     "output_type": "stream",
     "text": [
      "(1, 'test', 3)\n"
     ]
    }
   ],
   "source": [
    "def def_args(*args):\n",
    "    print(args)\n",
    "def_args(1,'test',3) #variable lenth arguments "
   ]
  },
  {
   "cell_type": "code",
   "execution_count": 30,
   "id": "3be86d35-ec15-4c6a-9716-6130e173f560",
   "metadata": {},
   "outputs": [
    {
     "data": {
      "text/plain": [
       "23"
      ]
     },
     "execution_count": 30,
     "metadata": {},
     "output_type": "execute_result"
    }
   ],
   "source": [
    "def func(x, y = 1):\n",
    "    z = x * y + x + y\n",
    "    return z\n",
    "\n",
    "func(2, func(3))"
   ]
  },
  {
   "cell_type": "code",
   "execution_count": 31,
   "id": "ae371460-c2c2-4415-a8d8-c8a6e5b709bb",
   "metadata": {},
   "outputs": [],
   "source": [
    "a=2\n",
    "b=3"
   ]
  },
  {
   "cell_type": "code",
   "execution_count": 33,
   "id": "e5af4717-bfb5-46fe-b18f-fc3934011cb3",
   "metadata": {},
   "outputs": [],
   "source": [
    "fun= lambda a,b: a if a > b else b"
   ]
  },
  {
   "cell_type": "code",
   "execution_count": 34,
   "id": "3dadd879-2129-46c6-8503-545080419afb",
   "metadata": {},
   "outputs": [
    {
     "data": {
      "text/plain": [
       "3"
      ]
     },
     "execution_count": 34,
     "metadata": {},
     "output_type": "execute_result"
    }
   ],
   "source": [
    "fun(2,3)"
   ]
  },
  {
   "cell_type": "code",
   "execution_count": 35,
   "id": "1e235bea-ede3-4d7c-ba25-7384cc3fc01d",
   "metadata": {},
   "outputs": [
    {
     "data": {
      "text/plain": [
       "9996"
      ]
     },
     "execution_count": 35,
     "metadata": {},
     "output_type": "execute_result"
    }
   ],
   "source": [
    "min = (lambda x, y: x if x < y else y)\n",
    "min(101*99, 102*98)\n"
   ]
  },
  {
   "cell_type": "code",
   "execution_count": 37,
   "id": "569d3bee-932e-40ec-bded-1bd9495c7b4d",
   "metadata": {},
   "outputs": [
    {
     "data": {
      "text/plain": [
       "35"
      ]
     },
     "execution_count": 37,
     "metadata": {},
     "output_type": "execute_result"
    }
   ],
   "source": [
    "def func(x = 1 ,y = 2):\n",
    "    z = x * y + x + y\n",
    "    return z\n",
    "\n",
    "func(2, func(3))"
   ]
  },
  {
   "cell_type": "code",
   "execution_count": null,
   "id": "bd202886-c6ea-4cd0-9df6-dbd1f2e52e3a",
   "metadata": {},
   "outputs": [],
   "source": []
  }
 ],
 "metadata": {
  "kernelspec": {
   "display_name": "Python 3 (ipykernel)",
   "language": "python",
   "name": "python3"
  },
  "language_info": {
   "codemirror_mode": {
    "name": "ipython",
    "version": 3
   },
   "file_extension": ".py",
   "mimetype": "text/x-python",
   "name": "python",
   "nbconvert_exporter": "python",
   "pygments_lexer": "ipython3",
   "version": "3.11.7"
  }
 },
 "nbformat": 4,
 "nbformat_minor": 5
}
