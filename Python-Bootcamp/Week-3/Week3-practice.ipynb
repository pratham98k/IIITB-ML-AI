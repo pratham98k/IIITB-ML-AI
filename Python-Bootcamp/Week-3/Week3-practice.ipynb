{
 "cells": [
  {
   "cell_type": "code",
   "execution_count": 5,
   "id": "9db79bdc-65ca-4074-a73e-e3bc92ab8655",
   "metadata": {},
   "outputs": [
    {
     "name": "stdin",
     "output_type": "stream",
     "text": [
      "Enter PIN:  12\n",
      "Wrong Ping, Please enter correct pin:  123\n",
      "Wrong Ping, Please enter correct pin:  4342\n",
      "Wrong Ping, Please enter correct pin:  1234\n"
     ]
    },
    {
     "name": "stdout",
     "output_type": "stream",
     "text": [
      "Correct PIN\n"
     ]
    }
   ],
   "source": [
    "#While loop\n",
    "#Let's create a pin checker which we generally have in our phones or ATMs\n",
    "\n",
    "pin=input(\"Enter PIN: \")\n",
    "\n",
    "while pin != '1234':\n",
    "    pin = input(\"Wrong Ping, Please enter correct pin: \")\n",
    "print(\"Correct PIN\")\n",
    "\n",
    "\n"
   ]
  },
  {
   "cell_type": "code",
   "execution_count": 6,
   "id": "507cb3ff-b792-4b15-a9e2-60d6bb9beacb",
   "metadata": {},
   "outputs": [],
   "source": [
    "#But usually, you only get three attempts to unlock anything with a pin code. \n",
    "#Can this condition be written in the while loop, let's find out in the following video:"
   ]
  },
  {
   "cell_type": "code",
   "execution_count": 7,
   "id": "5ba9863c-3533-4018-bc0a-2e5d8b156fcd",
   "metadata": {},
   "outputs": [
    {
     "name": "stdin",
     "output_type": "stream",
     "text": [
      "Enter PIN:  12\n",
      "Invalide pin, Please enter correct pin:  34\n",
      "Invalide pin, Please enter correct pin:  5342\n"
     ]
    },
    {
     "ename": "SystemExit",
     "evalue": "Too may invalide attempts",
     "output_type": "error",
     "traceback": [
      "An exception has occurred, use %tb to see the full traceback.\n",
      "\u001b[0;31mSystemExit\u001b[0m\u001b[0;31m:\u001b[0m Too may invalide attempts\n"
     ]
    },
    {
     "name": "stderr",
     "output_type": "stream",
     "text": [
      "/opt/anaconda3/lib/python3.11/site-packages/IPython/core/interactiveshell.py:3561: UserWarning: To exit: use 'exit', 'quit', or Ctrl-D.\n",
      "  warn(\"To exit: use 'exit', 'quit', or Ctrl-D.\", stacklevel=1)\n"
     ]
    }
   ],
   "source": [
    "import sys\n",
    "pin = input(\"Enter PIN: \")\n",
    "attempt_count=1\n",
    "while pin != '1234':\n",
    "    if attempt_count >= 3:\n",
    "        sys.exit(\"Too may invalide attempts\")\n",
    "    pin = input('Invalide pin, Please enter correct pin: ')\n",
    "    attempt_count+=1\n",
    "print(\"PIN validated successfully\")"
   ]
  },
  {
   "cell_type": "code",
   "execution_count": 8,
   "id": "6257ab67-69d2-4434-8a3b-c703cacf2e9d",
   "metadata": {},
   "outputs": [
    {
     "name": "stdin",
     "output_type": "stream",
     "text": [
      "Enter PIN:  12\n",
      "Invalide pin, Please enter correct pin:  34\n",
      "Invalide pin, Please enter correct pin:  1234\n"
     ]
    },
    {
     "name": "stdout",
     "output_type": "stream",
     "text": [
      "PIN validated successfully\n"
     ]
    }
   ],
   "source": [
    "import sys\n",
    "pin = input(\"Enter PIN: \")\n",
    "attempt_count=1\n",
    "while pin != '1234':\n",
    "    if attempt_count >= 3:\n",
    "        sys.exit(\"Too may invalide attempts\")\n",
    "    pin = input('Invalide pin, Please enter correct pin: ')\n",
    "    attempt_count+=1\n",
    "print(\"PIN validated successfully\")"
   ]
  },
  {
   "cell_type": "code",
   "execution_count": 11,
   "id": "2d34bcd7-cd4b-4797-8086-074f21234060",
   "metadata": {},
   "outputs": [
    {
     "ename": "NameError",
     "evalue": "name 'seq' is not defined",
     "output_type": "error",
     "traceback": [
      "\u001b[0;31m---------------------------------------------------------------------------\u001b[0m",
      "\u001b[0;31mNameError\u001b[0m                                 Traceback (most recent call last)",
      "Cell \u001b[0;32mIn[11], line 4\u001b[0m\n\u001b[1;32m      1\u001b[0m \u001b[38;5;66;03m#'For loop' Control Structure:\u001b[39;00m\n\u001b[1;32m      2\u001b[0m \u001b[38;5;66;03m#By now, you have understood the syntax of a for loop. \u001b[39;00m\n\u001b[0;32m----> 4\u001b[0m \u001b[38;5;28;01mfor\u001b[39;00m val \u001b[38;5;129;01min\u001b[39;00m seq :\n\u001b[1;32m      5\u001b[0m     statements\n",
      "\u001b[0;31mNameError\u001b[0m: name 'seq' is not defined"
     ]
    }
   ],
   "source": [
    "#'For loop' Control Structure:\n",
    "#By now, you have understood the syntax of a for loop. \n",
    "\n",
    "for val in seq :\n",
    "    statements\n",
    " \n",
    "\n",
    "#A few things to note in the syntax include:\n",
    "\n",
    "#seq, which represents a sequence; it can be a list, a tuple or a string. To put it in a simple way it can be any iterable object.\n",
    "\n",
    "#The in operator, which, as you may recall, is a membership operator that helps to check for the presence of an element in a sequence.  \n",
    "\n",
    "#But what role is the 'in' operator playing here?\n",
    "\n",
    "#When you say for val in seq, it means that for a value in sequence, it executes the set of statements in the code block once and returns \n",
    "#to 'for' again and then shifts the position to the next value.\n",
    "\n",
    "#Let’s say you are at the last element in the seq. Here, the for block executes, and now, when it again goes to val in seq, \n",
    "#there are no more elements, and hence, val in seq returns a false and stops the execution. \n",
    "\n",
    "#The for loop can iterate over any iterable object, we seen a few examples of this already. Dictionary data type is also an iterable object.\n",
    "    \n",
    "#Let's learn how for loop can be applied over the dictionaries. "
   ]
  },
  {
   "cell_type": "code",
   "execution_count": 13,
   "id": "97c26f9a-f53f-4301-85b6-4093915c4c91",
   "metadata": {},
   "outputs": [
    {
     "name": "stdout",
     "output_type": "stream",
     "text": [
      "1:2:3:4:5:"
     ]
    }
   ],
   "source": [
    "l = [1,2,3,4,5]\n",
    "\n",
    "for element in l:\n",
    "    print(element, end= \":\")"
   ]
  },
  {
   "cell_type": "code",
   "execution_count": 14,
   "id": "1bcd6cb8-ea85-4096-b07f-f5f3811292e8",
   "metadata": {},
   "outputs": [],
   "source": [
    "# Task \n",
    "\n",
    "product = 'chocolate milk@ mobile butt@er cheese@ bread'\n",
    "\n"
   ]
  },
  {
   "cell_type": "code",
   "execution_count": 15,
   "id": "d15956e5-5217-4a61-9745-34b62ac9bcce",
   "metadata": {},
   "outputs": [
    {
     "data": {
      "text/plain": [
       "['milk@', 'butt@er', 'cheese@']"
      ]
     },
     "execution_count": 15,
     "metadata": {},
     "output_type": "execute_result"
    }
   ],
   "source": [
    "[x for x in product.split() if '@' in x]"
   ]
  },
  {
   "cell_type": "code",
   "execution_count": 16,
   "id": "02a7654e-337f-47f1-b28a-5aeae4e31a44",
   "metadata": {},
   "outputs": [],
   "source": [
    "data = 'mumbai 30 pune 200 delhi 500' # total distance travelled"
   ]
  },
  {
   "cell_type": "code",
   "execution_count": 18,
   "id": "203798e1-f6d7-4a73-898d-808bc2621dd4",
   "metadata": {},
   "outputs": [],
   "source": [
    "newdata=data.split()"
   ]
  },
  {
   "cell_type": "code",
   "execution_count": 19,
   "id": "3d2e72c7-07a7-4d0e-8e1a-f2066ff241c2",
   "metadata": {},
   "outputs": [
    {
     "data": {
      "text/plain": [
       "['mumbai', '30', 'pune', '200', 'delhi', '500']"
      ]
     },
     "execution_count": 19,
     "metadata": {},
     "output_type": "execute_result"
    }
   ],
   "source": [
    "newdata"
   ]
  },
  {
   "cell_type": "code",
   "execution_count": 43,
   "id": "144267b9-3fab-4200-a56f-1d400018cfb9",
   "metadata": {},
   "outputs": [
    {
     "name": "stdout",
     "output_type": "stream",
     "text": [
      "[30, 200, 500]\n"
     ]
    },
    {
     "data": {
      "text/plain": [
       "730"
      ]
     },
     "execution_count": 43,
     "metadata": {},
     "output_type": "execute_result"
    }
   ],
   "source": [
    "total=[]\n",
    "for i in newdata:\n",
    "    if i.isdigit():\n",
    "        total.append(int(i))\n",
    "print(total)\n",
    "\n",
    "sum(total)\n",
    "\n",
    "        \n",
    "    "
   ]
  },
  {
   "cell_type": "code",
   "execution_count": 49,
   "id": "38398215-40d0-4a17-9850-99e3c0a80fa1",
   "metadata": {},
   "outputs": [],
   "source": [
    "def numtest(x):\n",
    "    if 20 - x < 0:\n",
    "        return (abs(20-x))**2\n",
    "    elif 20-x > 0:\n",
    "        return (20-x)\n",
    "    else:\n",
    "        print(\"Some error\")\n",
    "    "
   ]
  },
  {
   "cell_type": "code",
   "execution_count": 52,
   "id": "840219f8-2f88-469f-a4f3-b1150a7ce585",
   "metadata": {},
   "outputs": [
    {
     "data": {
      "text/plain": [
       "4"
      ]
     },
     "execution_count": 52,
     "metadata": {},
     "output_type": "execute_result"
    }
   ],
   "source": [
    "numtest(22)"
   ]
  },
  {
   "cell_type": "code",
   "execution_count": 55,
   "id": "6adae3b3-3e04-4062-97ff-d46c5f36f8f8",
   "metadata": {},
   "outputs": [],
   "source": [
    "def numtest1(x):\n",
    "    y=x-20\n",
    "    if y < 0:\n",
    "        return y**2\n",
    "    elif y>0:\n",
    "        return y\n",
    "    else:\n",
    "        print(\"Some error\")"
   ]
  },
  {
   "cell_type": "code",
   "execution_count": 54,
   "id": "0a58fa26-7ecc-4863-8282-d3106de48bfa",
   "metadata": {},
   "outputs": [
    {
     "data": {
      "text/plain": [
       "2"
      ]
     },
     "execution_count": 54,
     "metadata": {},
     "output_type": "execute_result"
    }
   ],
   "source": [
    "numtest1(22)"
   ]
  },
  {
   "cell_type": "code",
   "execution_count": 1,
   "id": "e70f6106-3972-4adf-b720-e27c624ec60c",
   "metadata": {},
   "outputs": [],
   "source": [
    "#Dictonary iteratoino"
   ]
  },
  {
   "cell_type": "code",
   "execution_count": 2,
   "id": "4b82fb85-b387-4506-82aa-e7ee4c7beaba",
   "metadata": {},
   "outputs": [],
   "source": [
    "students_data = {1:['Sam', 24] , 2:['Rob',25], 3:['Jack', 26], 4:['Cornor',24], 5:['Trump',27]}"
   ]
  },
  {
   "cell_type": "code",
   "execution_count": 3,
   "id": "88cdd2bc-f2e5-43a9-8142-46866958d043",
   "metadata": {},
   "outputs": [
    {
     "data": {
      "text/plain": [
       "{1: ['Sam', 24],\n",
       " 2: ['Rob', 25],\n",
       " 3: ['Jack', 26],\n",
       " 4: ['Cornor', 24],\n",
       " 5: ['Trump', 27]}"
      ]
     },
     "execution_count": 3,
     "metadata": {},
     "output_type": "execute_result"
    }
   ],
   "source": [
    "students_data"
   ]
  },
  {
   "cell_type": "code",
   "execution_count": 8,
   "id": "369807f2-fa8d-4d28-ad68-ed29797b4428",
   "metadata": {},
   "outputs": [
    {
     "name": "stdout",
     "output_type": "stream",
     "text": [
      "1 ['Sam', 24]\n",
      "2 ['Rob', 25]\n",
      "3 ['Jack', 26]\n",
      "4 ['Cornor', 24]\n",
      "5 ['Trump', 27]\n"
     ]
    }
   ],
   "source": [
    "for key, val in students_data.items():\n",
    "    print(key, val)"
   ]
  },
  {
   "cell_type": "code",
   "execution_count": 9,
   "id": "d43bf1ca-d8d9-4485-a5a7-9c1d6aa01b25",
   "metadata": {},
   "outputs": [
    {
     "name": "stdout",
     "output_type": "stream",
     "text": [
      "1 Sam\n",
      "2 Rob\n",
      "3 Jack\n",
      "4 Cornor\n",
      "5 Trump\n"
     ]
    }
   ],
   "source": [
    "for key, val in students_data.items():\n",
    "    print(key, val[0])"
   ]
  },
  {
   "cell_type": "code",
   "execution_count": 10,
   "id": "a5398378-1316-4be2-b79b-4f59a5130a94",
   "metadata": {},
   "outputs": [
    {
     "name": "stdout",
     "output_type": "stream",
     "text": [
      "1\n",
      "2\n",
      "3\n",
      "4\n",
      "5\n"
     ]
    }
   ],
   "source": [
    "for key in students_data.keys():\n",
    "    print(key)"
   ]
  },
  {
   "cell_type": "code",
   "execution_count": 12,
   "id": "391d91a9-21bd-4c7f-b125-30a01c6c9a92",
   "metadata": {},
   "outputs": [],
   "source": [
    "L1 = [10, 20, 30, 24, 18]\n",
    "L2 = [8, 14, 15, 20, 10]\n",
    "L3 = []"
   ]
  },
  {
   "cell_type": "code",
   "execution_count": 15,
   "id": "aceba7f5-a715-41da-83a2-524e4f0343f4",
   "metadata": {},
   "outputs": [
    {
     "data": {
      "text/plain": [
       "[-2, -6, -15, -4, -8]"
      ]
     },
     "execution_count": 15,
     "metadata": {},
     "output_type": "execute_result"
    }
   ],
   "source": [
    "for i in range(len(L2)):\n",
    "    L3.\n",
    "    \n",
    "    "
   ]
  },
  {
   "cell_type": "code",
   "execution_count": 16,
   "id": "6b066f20-6645-4f72-bdb8-7086061ea34e",
   "metadata": {},
   "outputs": [
    {
     "ename": "TypeError",
     "evalue": "'list' object is not callable",
     "output_type": "error",
     "traceback": [
      "\u001b[0;31m---------------------------------------------------------------------------\u001b[0m",
      "\u001b[0;31mTypeError\u001b[0m                                 Traceback (most recent call last)",
      "Cell \u001b[0;32mIn[16], line 2\u001b[0m\n\u001b[1;32m      1\u001b[0m \u001b[38;5;28;01mfor\u001b[39;00m i \u001b[38;5;129;01min\u001b[39;00m \u001b[38;5;28mrange\u001b[39m(\u001b[38;5;28mlen\u001b[39m(L1)):\n\u001b[0;32m----> 2\u001b[0m     L3\u001b[38;5;241m.\u001b[39mappend(L2(i) \u001b[38;5;241m-\u001b[39m L1(i))\n\u001b[1;32m      3\u001b[0m L3\n",
      "\u001b[0;31mTypeError\u001b[0m: 'list' object is not callable"
     ]
    }
   ],
   "source": [
    "for i in range(len(L1)):\n",
    "    L3.append(L2(i) - L1(i))\n",
    "L3"
   ]
  },
  {
   "cell_type": "code",
   "execution_count": 21,
   "id": "ba67fe80-0de5-4ddc-8884-01a4c7e98e68",
   "metadata": {},
   "outputs": [],
   "source": [
    "L4=['VARMA', 'raj', 'Gupta', 'SaNdeeP']\n",
    "L5= []"
   ]
  },
  {
   "cell_type": "code",
   "execution_count": 22,
   "id": "6f233df3-9f26-4e8d-b554-f44a49df04ae",
   "metadata": {},
   "outputs": [],
   "source": [
    "for i in L4:\n",
    "    L5.append(i.capitalize())"
   ]
  },
  {
   "cell_type": "code",
   "execution_count": 23,
   "id": "8c243e4d-ea98-4e3e-9e2e-0747c8a5fc15",
   "metadata": {},
   "outputs": [
    {
     "data": {
      "text/plain": [
       "['Varma', 'Raj', 'Gupta', 'Sandeep']"
      ]
     },
     "execution_count": 23,
     "metadata": {},
     "output_type": "execute_result"
    }
   ],
   "source": [
    "L5"
   ]
  },
  {
   "cell_type": "code",
   "execution_count": 24,
   "id": "cbbb4169-db8e-4c7c-921b-e8fdf3c3c11c",
   "metadata": {},
   "outputs": [
    {
     "data": {
      "text/plain": [
       "[]"
      ]
     },
     "execution_count": 24,
     "metadata": {},
     "output_type": "execute_result"
    }
   ],
   "source": [
    "list(range(0, -101, 2))"
   ]
  },
  {
   "cell_type": "code",
   "execution_count": 25,
   "id": "e7a8e28a-dc1f-4498-820c-02a684546d81",
   "metadata": {},
   "outputs": [
    {
     "data": {
      "text/plain": [
       "[-100,\n",
       " -98,\n",
       " -96,\n",
       " -94,\n",
       " -92,\n",
       " -90,\n",
       " -88,\n",
       " -86,\n",
       " -84,\n",
       " -82,\n",
       " -80,\n",
       " -78,\n",
       " -76,\n",
       " -74,\n",
       " -72,\n",
       " -70,\n",
       " -68,\n",
       " -66,\n",
       " -64,\n",
       " -62,\n",
       " -60,\n",
       " -58,\n",
       " -56,\n",
       " -54,\n",
       " -52,\n",
       " -50,\n",
       " -48,\n",
       " -46,\n",
       " -44,\n",
       " -42,\n",
       " -40,\n",
       " -38,\n",
       " -36,\n",
       " -34,\n",
       " -32,\n",
       " -30,\n",
       " -28,\n",
       " -26,\n",
       " -24,\n",
       " -22,\n",
       " -20,\n",
       " -18,\n",
       " -16,\n",
       " -14,\n",
       " -12,\n",
       " -10,\n",
       " -8,\n",
       " -6,\n",
       " -4,\n",
       " -2]"
      ]
     },
     "execution_count": 25,
     "metadata": {},
     "output_type": "execute_result"
    }
   ],
   "source": [
    "list(range(-100, -1, 2))"
   ]
  },
  {
   "cell_type": "code",
   "execution_count": 26,
   "id": "4c08042b-3285-4532-980a-e327b4e1e86e",
   "metadata": {},
   "outputs": [
    {
     "data": {
      "text/plain": [
       "[-100,\n",
       " -98,\n",
       " -96,\n",
       " -94,\n",
       " -92,\n",
       " -90,\n",
       " -88,\n",
       " -86,\n",
       " -84,\n",
       " -82,\n",
       " -80,\n",
       " -78,\n",
       " -76,\n",
       " -74,\n",
       " -72,\n",
       " -70,\n",
       " -68,\n",
       " -66,\n",
       " -64,\n",
       " -62,\n",
       " -60,\n",
       " -58,\n",
       " -56,\n",
       " -54,\n",
       " -52,\n",
       " -50,\n",
       " -48,\n",
       " -46,\n",
       " -44,\n",
       " -42,\n",
       " -40,\n",
       " -38,\n",
       " -36,\n",
       " -34,\n",
       " -32,\n",
       " -30,\n",
       " -28,\n",
       " -26,\n",
       " -24,\n",
       " -22,\n",
       " -20,\n",
       " -18,\n",
       " -16,\n",
       " -14,\n",
       " -12,\n",
       " -10,\n",
       " -8,\n",
       " -6,\n",
       " -4,\n",
       " -2]"
      ]
     },
     "execution_count": 26,
     "metadata": {},
     "output_type": "execute_result"
    }
   ],
   "source": [
    "sorted(set(range(-2, -101, -2)))"
   ]
  },
  {
   "cell_type": "code",
   "execution_count": 27,
   "id": "6a71bff6-2bb5-490c-85a0-5984ebd8d1a5",
   "metadata": {},
   "outputs": [
    {
     "data": {
      "text/plain": [
       "[-100,\n",
       " -98,\n",
       " -96,\n",
       " -94,\n",
       " -92,\n",
       " -90,\n",
       " -88,\n",
       " -86,\n",
       " -84,\n",
       " -82,\n",
       " -80,\n",
       " -78,\n",
       " -76,\n",
       " -74,\n",
       " -72,\n",
       " -70,\n",
       " -68,\n",
       " -66,\n",
       " -64,\n",
       " -62,\n",
       " -60,\n",
       " -58,\n",
       " -56,\n",
       " -54,\n",
       " -52,\n",
       " -50,\n",
       " -48,\n",
       " -46,\n",
       " -44,\n",
       " -42,\n",
       " -40,\n",
       " -38,\n",
       " -36,\n",
       " -34,\n",
       " -32,\n",
       " -30,\n",
       " -28,\n",
       " -26,\n",
       " -24,\n",
       " -22,\n",
       " -20,\n",
       " -18,\n",
       " -16,\n",
       " -14,\n",
       " -12,\n",
       " -10,\n",
       " -8,\n",
       " -6,\n",
       " -4,\n",
       " -2]"
      ]
     },
     "execution_count": 27,
     "metadata": {},
     "output_type": "execute_result"
    }
   ],
   "source": [
    "l = []\n",
    "for i in range(-100, 0):\n",
    "    if(i % 2 == 0):\n",
    "        l.append(i)\n",
    "l"
   ]
  },
  {
   "cell_type": "code",
   "execution_count": 16,
   "id": "a1ee57f3-5077-49ec-9e4a-2c6be849e300",
   "metadata": {},
   "outputs": [],
   "source": [
    "name_converter = lambda name: name.split()[-1] + \".\" + name.split()[0][0]"
   ]
  },
  {
   "cell_type": "code",
   "execution_count": 17,
   "id": "ec056af8-a0ae-4d41-916f-9eac201dfbdd",
   "metadata": {},
   "outputs": [
    {
     "data": {
      "text/plain": [
       "'sharma.R'"
      ]
     },
     "execution_count": 17,
     "metadata": {},
     "output_type": "execute_result"
    }
   ],
   "source": [
    "name_converter(\"Rohit sharma\")"
   ]
  },
  {
   "cell_type": "code",
   "execution_count": 18,
   "id": "668d3f98-2f10-4353-bbca-262e0034de80",
   "metadata": {},
   "outputs": [],
   "source": [
    "cricketers = ['Rohit Sharma','mahendra singh dhoni','suryakurmar yadav','piyush chavla']"
   ]
  },
  {
   "cell_type": "code",
   "execution_count": 19,
   "id": "44aeab65-4676-42cc-a50f-dd2f36bec7dd",
   "metadata": {},
   "outputs": [
    {
     "data": {
      "text/plain": [
       "['Rohit Sharma', 'mahendra singh dhoni', 'suryakurmar yadav', 'piyush chavla']"
      ]
     },
     "execution_count": 19,
     "metadata": {},
     "output_type": "execute_result"
    }
   ],
   "source": [
    "cricketers"
   ]
  },
  {
   "cell_type": "code",
   "execution_count": 20,
   "id": "2d9f8c28-14ad-4a0a-abd2-e7e84a8839f4",
   "metadata": {},
   "outputs": [
    {
     "data": {
      "text/plain": [
       "['Sharma.R', 'dhoni.m', 'yadav.s', 'chavla.p']"
      ]
     },
     "execution_count": 20,
     "metadata": {},
     "output_type": "execute_result"
    }
   ],
   "source": [
    "[name_converter(name) for name in cricketers]"
   ]
  },
  {
   "cell_type": "code",
   "execution_count": 21,
   "id": "3369ccba-7f9b-42e4-8b9e-25b92e73d3c3",
   "metadata": {},
   "outputs": [
    {
     "name": "stdout",
     "output_type": "stream",
     "text": [
      "Doubled numbers: [2, 4, 6, 8, 10, 12, 14, 16, 18, 20]\n",
      "Even numbers: [2, 4, 6, 8, 10]\n"
     ]
    }
   ],
   "source": [
    "# Sample list of numbers\n",
    "numbers = [1, 2, 3, 4, 5, 6, 7, 8, 9, 10]\n",
    "\n",
    "# Using map to double each number\n",
    "doubled_numbers = list(map(lambda x: x * 2, numbers))\n",
    "print(\"Doubled numbers:\", doubled_numbers)\n",
    "\n",
    "# Using filter to filter out even numbers\n",
    "even_numbers = list(filter(lambda x: x % 2 == 0, numbers))\n",
    "print(\"Even numbers:\", even_numbers)\n"
   ]
  },
  {
   "cell_type": "code",
   "execution_count": 22,
   "id": "bc1f9286-e94f-445b-a5f8-0631717961d2",
   "metadata": {},
   "outputs": [],
   "source": [
    "mixed_data = ['hiii',34,98.6,'True',True,'python',54,100] # extract only integers"
   ]
  },
  {
   "cell_type": "code",
   "execution_count": 27,
   "id": "d8ea88c7-7516-445d-850e-50f4c5c192e9",
   "metadata": {},
   "outputs": [
    {
     "data": {
      "text/plain": [
       "[34, 54, 100]"
      ]
     },
     "execution_count": 27,
     "metadata": {},
     "output_type": "execute_result"
    }
   ],
   "source": [
    "list(filter(lambda x: str(x).isdigit(), mixed_data ))"
   ]
  },
  {
   "cell_type": "code",
   "execution_count": null,
   "id": "5d44384c-27fd-415a-94d4-8d5085418ae4",
   "metadata": {},
   "outputs": [],
   "source": [
    "for i in mixed_data:\n",
    "    "
   ]
  },
  {
   "cell_type": "code",
   "execution_count": 29,
   "id": "52757647-8d3d-4915-b9fe-c453b97543ce",
   "metadata": {},
   "outputs": [],
   "source": [
    "senetence = 'hello everyone, i am enjoying python coding' \n",
    "# return sentence where first letter capital of each word"
   ]
  },
  {
   "cell_type": "code",
   "execution_count": 56,
   "id": "e98c95aa-9b60-4ba5-a2e9-3c37a56d75c8",
   "metadata": {},
   "outputs": [
    {
     "ename": "SyntaxError",
     "evalue": "invalid syntax (272427239.py, line 1)",
     "output_type": "error",
     "traceback": [
      "\u001b[0;36m  Cell \u001b[0;32mIn[56], line 1\u001b[0;36m\u001b[0m\n\u001b[0;31m    x1= lambda senetence.split()[0]\u001b[0m\n\u001b[0m                        ^\u001b[0m\n\u001b[0;31mSyntaxError\u001b[0m\u001b[0;31m:\u001b[0m invalid syntax\n"
     ]
    }
   ],
   "source": []
  },
  {
   "cell_type": "code",
   "execution_count": 48,
   "id": "899bafe0-9661-4523-82bc-e59d5e2928ff",
   "metadata": {},
   "outputs": [
    {
     "ename": "TypeError",
     "evalue": "list indices must be integers or slices, not str",
     "output_type": "error",
     "traceback": [
      "\u001b[0;31m---------------------------------------------------------------------------\u001b[0m",
      "\u001b[0;31mTypeError\u001b[0m                                 Traceback (most recent call last)",
      "Cell \u001b[0;32mIn[48], line 1\u001b[0m\n\u001b[0;32m----> 1\u001b[0m x1(senetence)\n",
      "Cell \u001b[0;32mIn[47], line 1\u001b[0m, in \u001b[0;36m<lambda>\u001b[0;34m(a)\u001b[0m\n\u001b[0;32m----> 1\u001b[0m x1 \u001b[38;5;241m=\u001b[39m \u001b[38;5;28;01mlambda\u001b[39;00m a : senetence\u001b[38;5;241m.\u001b[39msplit()[a]\u001b[38;5;241m.\u001b[39mcapitalize()\n",
      "\u001b[0;31mTypeError\u001b[0m: list indices must be integers or slices, not str"
     ]
    }
   ],
   "source": []
  },
  {
   "cell_type": "code",
   "execution_count": 38,
   "id": "17e60c8f-00f0-4456-a015-8b4a9c1f4a68",
   "metadata": {},
   "outputs": [
    {
     "ename": "SyntaxError",
     "evalue": "invalid syntax (242153928.py, line 1)",
     "output_type": "error",
     "traceback": [
      "\u001b[0;36m  Cell \u001b[0;32mIn[38], line 1\u001b[0;36m\u001b[0m\n\u001b[0;31m    cap_list = list(map(lambda x: x.capitalize(), sentence.split())) reduce(lambda x, y: x+' '+y, senetence)\u001b[0m\n\u001b[0m                                                                     ^\u001b[0m\n\u001b[0;31mSyntaxError\u001b[0m\u001b[0;31m:\u001b[0m invalid syntax\n"
     ]
    }
   ],
   "source": []
  },
  {
   "cell_type": "code",
   "execution_count": 40,
   "id": "fac22827-a625-4e8e-9903-cfc0f19b23e3",
   "metadata": {},
   "outputs": [
    {
     "data": {
      "text/plain": [
       "['hello', 'everyone,', 'i', 'am', 'enjoying', 'python', 'coding']"
      ]
     },
     "execution_count": 40,
     "metadata": {},
     "output_type": "execute_result"
    }
   ],
   "source": [
    "senetence.split()"
   ]
  },
  {
   "cell_type": "code",
   "execution_count": 61,
   "id": "12e2b709-bb5d-4f95-a130-a582d5d96533",
   "metadata": {},
   "outputs": [
    {
     "data": {
      "text/plain": [
       "'Stock Price\\n'"
      ]
     },
     "execution_count": 61,
     "metadata": {},
     "output_type": "execute_result"
    }
   ],
   "source": [
    "google_data = open('google_stock_price.csv').readline()\n",
    "google_data"
   ]
  },
  {
   "cell_type": "code",
   "execution_count": 60,
   "id": "8280ef23-6e75-427e-a345-e5fb291b3c9d",
   "metadata": {},
   "outputs": [
    {
     "name": "stdout",
     "output_type": "stream",
     "text": [
      "Stock Price\n",
      "\n"
     ]
    }
   ],
   "source": [
    "print(google_data)"
   ]
  },
  {
   "cell_type": "code",
   "execution_count": null,
   "id": "354649e6-04e8-4a07-8114-7e2a8b109258",
   "metadata": {},
   "outputs": [],
   "source": []
  }
 ],
 "metadata": {
  "kernelspec": {
   "display_name": "Python 3 (ipykernel)",
   "language": "python",
   "name": "python3"
  },
  "language_info": {
   "codemirror_mode": {
    "name": "ipython",
    "version": 3
   },
   "file_extension": ".py",
   "mimetype": "text/x-python",
   "name": "python",
   "nbconvert_exporter": "python",
   "pygments_lexer": "ipython3",
   "version": "3.11.7"
  }
 },
 "nbformat": 4,
 "nbformat_minor": 5
}
