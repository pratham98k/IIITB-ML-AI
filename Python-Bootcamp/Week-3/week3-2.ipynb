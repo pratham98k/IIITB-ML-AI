{
 "cells": [
  {
   "cell_type": "code",
   "execution_count": 39,
   "id": "4f80052d-efdb-43d9-83eb-8c98f458ec4e",
   "metadata": {},
   "outputs": [
    {
     "data": {
      "text/plain": [
       "6025"
      ]
     },
     "execution_count": 39,
     "metadata": {},
     "output_type": "execute_result"
    }
   ],
   "source": [
    "google_data = open('google_stock_price.csv').readlines()\n",
    "google_data\n",
    "new_google_data=list(filter(None, google_data))\n",
    "len(new_google_data)"
   ]
  },
  {
   "cell_type": "code",
   "execution_count": 3,
   "id": "5f6c669a-99f4-4306-b03a-69ba5476e060",
   "metadata": {},
   "outputs": [
    {
     "data": {
      "text/plain": [
       "'Stock Price\\n'"
      ]
     },
     "execution_count": 3,
     "metadata": {},
     "output_type": "execute_result"
    }
   ],
   "source": [
    "google_data[0]"
   ]
  },
  {
   "cell_type": "code",
   "execution_count": 4,
   "id": "f4eaa1fd-cad4-4723-a212-54c6fec0beb3",
   "metadata": {},
   "outputs": [],
   "source": [
    "del google_data[0]"
   ]
  },
  {
   "cell_type": "code",
   "execution_count": 5,
   "id": "576324c5-da1c-4fde-aa83-a11b62aa7aa3",
   "metadata": {},
   "outputs": [
    {
     "data": {
      "text/plain": [
       "6024"
      ]
     },
     "execution_count": 5,
     "metadata": {},
     "output_type": "execute_result"
    }
   ],
   "source": [
    "len(google_data)"
   ]
  },
  {
   "cell_type": "code",
   "execution_count": 7,
   "id": "ac7ebdd8-70cc-436f-bedf-0119dd29e9e4",
   "metadata": {},
   "outputs": [],
   "source": [
    "new_list = [float(i) for i in google_data[1::2]]"
   ]
  },
  {
   "cell_type": "code",
   "execution_count": 9,
   "id": "30ba3e36-4970-45ce-9052-5bfa9bd2d640",
   "metadata": {},
   "outputs": [
    {
     "data": {
      "text/plain": [
       "3012"
      ]
     },
     "execution_count": 9,
     "metadata": {},
     "output_type": "execute_result"
    }
   ],
   "source": [
    "len(new_list)"
   ]
  },
  {
   "cell_type": "code",
   "execution_count": 15,
   "id": "12d205bf-ec0d-4fb5-a493-f27aeb7677a1",
   "metadata": {},
   "outputs": [
    {
     "name": "stdout",
     "output_type": "stream",
     "text": [
      "782.22\n"
     ]
    }
   ],
   "source": [
    "from functools import reduce\n",
    "print (reduce(max, new_list))"
   ]
  },
  {
   "cell_type": "code",
   "execution_count": 16,
   "id": "a70d61ca-febd-4008-8efd-0073447f6735",
   "metadata": {},
   "outputs": [
    {
     "name": "stdout",
     "output_type": "stream",
     "text": [
      "49.95\n"
     ]
    }
   ],
   "source": [
    "print(reduce(min, new_list))"
   ]
  },
  {
   "cell_type": "code",
   "execution_count": 23,
   "id": "227b71d4-484c-4af3-a4c5-3a41367a0ae0",
   "metadata": {},
   "outputs": [
    {
     "name": "stdout",
     "output_type": "stream",
     "text": [
      "701\n",
      "1174\n",
      "1137\n"
     ]
    }
   ],
   "source": [
    "###Method 2 filter \n",
    "\n",
    "\n",
    "\n",
    "excellent=0\n",
    "good=0\n",
    "ok=0\n",
    "\n",
    "for i in new_list:\n",
    "    if i > 500:\n",
    "        excellent+=1\n",
    "    elif i< 500 and i> 250:\n",
    "        good+=1\n",
    "    elif i<250:\n",
    "        ok+=1\n",
    "        \n",
    "print(excellent)\n",
    "print(good)\n",
    "print(ok)"
   ]
  },
  {
   "cell_type": "code",
   "execution_count": 34,
   "id": "95abc43b-df7c-400a-8620-68e21337db8a",
   "metadata": {},
   "outputs": [
    {
     "name": "stdout",
     "output_type": "stream",
     "text": [
      "701\n",
      "1174\n",
      "1137\n"
     ]
    }
   ],
   "source": [
    "###Method 2 filter\n",
    "\n",
    "excellent1=len(list(filter(lambda x: x> 500, new_list)))\n",
    "good1=len(list(filter(lambda x: x<500 and x>250, new_list)))\n",
    "ok=len(list(filter(lambda x:x<250, new_list )))\n",
    "print(excellent1)\n",
    "print(good1)\n",
    "print(ok)"
   ]
  },
  {
   "cell_type": "code",
   "execution_count": 33,
   "id": "6bff81a4-204b-4258-93af-737cb025bfea",
   "metadata": {},
   "outputs": [
    {
     "name": "stdout",
     "output_type": "stream",
     "text": [
      "701\n",
      "1174\n",
      "1137\n"
     ]
    }
   ],
   "source": [
    "print(excellent1)\n",
    "print(good1)\n",
    "print(ok)"
   ]
  },
  {
   "cell_type": "code",
   "execution_count": 40,
   "id": "dcd2a4d4-b1c3-4086-8498-d09a6d4fc6d6",
   "metadata": {},
   "outputs": [
    {
     "data": {
      "text/plain": [
       "1137"
      ]
     },
     "execution_count": 40,
     "metadata": {},
     "output_type": "execute_result"
    }
   ],
   "source": [
    "ok"
   ]
  },
  {
   "cell_type": "code",
   "execution_count": null,
   "id": "d0bd29ef-33b1-44af-81de-56c330cbc418",
   "metadata": {},
   "outputs": [],
   "source": []
  }
 ],
 "metadata": {
  "kernelspec": {
   "display_name": "Python 3 (ipykernel)",
   "language": "python",
   "name": "python3"
  },
  "language_info": {
   "codemirror_mode": {
    "name": "ipython",
    "version": 3
   },
   "file_extension": ".py",
   "mimetype": "text/x-python",
   "name": "python",
   "nbconvert_exporter": "python",
   "pygments_lexer": "ipython3",
   "version": "3.11.7"
  }
 },
 "nbformat": 4,
 "nbformat_minor": 5
}
