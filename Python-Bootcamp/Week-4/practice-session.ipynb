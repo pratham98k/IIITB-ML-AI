{
 "cells": [
  {
   "cell_type": "code",
   "execution_count": 26,
   "id": "bdb2dd75",
   "metadata": {},
   "outputs": [],
   "source": [
    "import numpy as np"
   ]
  },
  {
   "cell_type": "code",
   "execution_count": 30,
   "id": "f3af67dd",
   "metadata": {},
   "outputs": [],
   "source": [
    "array_3 = [[1,2,3,5,4],[6,7,8,5,3]]"
   ]
  },
  {
   "cell_type": "code",
   "execution_count": 31,
   "id": "1ca8a721",
   "metadata": {},
   "outputs": [],
   "source": [
    "array_4=np.array(array_3)"
   ]
  },
  {
   "cell_type": "code",
   "execution_count": 32,
   "id": "0a8b143d",
   "metadata": {},
   "outputs": [
    {
     "data": {
      "text/plain": [
       "array([[1, 2, 3, 5, 4],\n",
       "       [6, 7, 8, 5, 3]])"
      ]
     },
     "execution_count": 32,
     "metadata": {},
     "output_type": "execute_result"
    }
   ],
   "source": [
    "array_4"
   ]
  },
  {
   "cell_type": "code",
   "execution_count": 33,
   "id": "6eeb823d",
   "metadata": {},
   "outputs": [
    {
     "data": {
      "text/plain": [
       "numpy.ndarray"
      ]
     },
     "execution_count": 33,
     "metadata": {},
     "output_type": "execute_result"
    }
   ],
   "source": [
    "type(array_4)"
   ]
  },
  {
   "cell_type": "code",
   "execution_count": 34,
   "id": "2ffc47c1",
   "metadata": {},
   "outputs": [
    {
     "data": {
      "text/plain": [
       "(2, 5)"
      ]
     },
     "execution_count": 34,
     "metadata": {},
     "output_type": "execute_result"
    }
   ],
   "source": [
    "array_4.shape"
   ]
  },
  {
   "cell_type": "code",
   "execution_count": 35,
   "id": "b52c4b1c",
   "metadata": {},
   "outputs": [
    {
     "data": {
      "text/plain": [
       "2"
      ]
     },
     "execution_count": 35,
     "metadata": {},
     "output_type": "execute_result"
    }
   ],
   "source": [
    "array_4.ndim"
   ]
  },
  {
   "cell_type": "code",
   "execution_count": 36,
   "id": "42b22f6d",
   "metadata": {},
   "outputs": [],
   "source": [
    "#Which of the following would extract all the rows of the first 3 columns in a 2D array?"
   ]
  },
  {
   "cell_type": "code",
   "execution_count": 51,
   "id": "ba367649",
   "metadata": {},
   "outputs": [
    {
     "data": {
      "text/plain": [
       "array([[1, 2, 3],\n",
       "       [6, 7, 8]])"
      ]
     },
     "execution_count": 51,
     "metadata": {},
     "output_type": "execute_result"
    }
   ],
   "source": [
    "array_4[ : , :3]"
   ]
  },
  {
   "cell_type": "code",
   "execution_count": 46,
   "id": "52ad390a",
   "metadata": {},
   "outputs": [],
   "source": [
    "ar=[[11, 12, 13, 14],[21, 22, 23, 24],[31, 32, 33, 34]]"
   ]
  },
  {
   "cell_type": "code",
   "execution_count": 48,
   "id": "268e3787",
   "metadata": {},
   "outputs": [],
   "source": [
    "nr=np.array(ar)"
   ]
  },
  {
   "cell_type": "code",
   "execution_count": 62,
   "id": "9b4816cf",
   "metadata": {},
   "outputs": [
    {
     "name": "stdout",
     "output_type": "stream",
     "text": [
      "[11 21 31]\n"
     ]
    }
   ],
   "source": [
    "print(nr[:,0])"
   ]
  },
  {
   "cell_type": "code",
   "execution_count": 66,
   "id": "b938f537",
   "metadata": {},
   "outputs": [
    {
     "name": "stdout",
     "output_type": "stream",
     "text": [
      "[11 12 13 14]\n"
     ]
    }
   ],
   "source": [
    "print(nr[0][:])"
   ]
  },
  {
   "cell_type": "code",
   "execution_count": null,
   "id": "5dcdad1c",
   "metadata": {},
   "outputs": [],
   "source": []
  }
 ],
 "metadata": {
  "kernelspec": {
   "display_name": "Python 3 (ipykernel)",
   "language": "python",
   "name": "python3"
  },
  "language_info": {
   "codemirror_mode": {
    "name": "ipython",
    "version": 3
   },
   "file_extension": ".py",
   "mimetype": "text/x-python",
   "name": "python",
   "nbconvert_exporter": "python",
   "pygments_lexer": "ipython3",
   "version": "3.11.7"
  }
 },
 "nbformat": 4,
 "nbformat_minor": 5
}
